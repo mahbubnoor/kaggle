{
 "cells": [
  {
   "cell_type": "markdown",
   "metadata": {},
   "source": [
    "# Digit recognizer\n",
    "\n",
    "Knowledge competition. [Takes an image of a handwritten single digit, and determine what that digit is](https://www.kaggle.com/c/digit-recognizer).\n",
    "\n",
    "Just copied all the data into data folder."
   ]
  },
  {
   "cell_type": "code",
   "execution_count": 1,
   "metadata": {
    "collapsed": false
   },
   "outputs": [
    {
     "name": "stdout",
     "output_type": "stream",
     "text": [
      "sample_submission.csv\n",
      "test.csv\n",
      "train.csv\n"
     ]
    }
   ],
   "source": [
    "%%bash\n",
    "ls data"
   ]
  },
  {
   "cell_type": "markdown",
   "metadata": {},
   "source": [
    "Importing main libraries and reading the data. Outputting the datafreame to make sure that everything is correct."
   ]
  },
  {
   "cell_type": "code",
   "execution_count": 2,
   "metadata": {
    "collapsed": true
   },
   "outputs": [],
   "source": [
    "import pandas as pd\n",
    "import numpy as np\n",
    "import matplotlib.pyplot as plt\n",
    "import seaborn as sns\n",
    "%matplotlib inline\n",
    "\n",
    "data_train = pd.DataFrame.from_csv(\"data/train.csv\", index_col=False)\n",
    "data_test = pd.DataFrame.from_csv(\"data/test.csv\", index_col=False)"
   ]
  },
  {
   "cell_type": "code",
   "execution_count": 3,
   "metadata": {
    "collapsed": false
   },
   "outputs": [
    {
     "data": {
      "text/html": [
       "<div>\n",
       "<table border=\"1\" class=\"dataframe\">\n",
       "  <thead>\n",
       "    <tr style=\"text-align: right;\">\n",
       "      <th></th>\n",
       "      <th>label</th>\n",
       "      <th>pixel0</th>\n",
       "      <th>pixel1</th>\n",
       "      <th>pixel2</th>\n",
       "      <th>pixel3</th>\n",
       "      <th>pixel4</th>\n",
       "      <th>pixel5</th>\n",
       "      <th>pixel6</th>\n",
       "      <th>pixel7</th>\n",
       "      <th>pixel8</th>\n",
       "      <th>...</th>\n",
       "      <th>pixel774</th>\n",
       "      <th>pixel775</th>\n",
       "      <th>pixel776</th>\n",
       "      <th>pixel777</th>\n",
       "      <th>pixel778</th>\n",
       "      <th>pixel779</th>\n",
       "      <th>pixel780</th>\n",
       "      <th>pixel781</th>\n",
       "      <th>pixel782</th>\n",
       "      <th>pixel783</th>\n",
       "    </tr>\n",
       "  </thead>\n",
       "  <tbody>\n",
       "    <tr>\n",
       "      <th>0</th>\n",
       "      <td>1</td>\n",
       "      <td>0</td>\n",
       "      <td>0</td>\n",
       "      <td>0</td>\n",
       "      <td>0</td>\n",
       "      <td>0</td>\n",
       "      <td>0</td>\n",
       "      <td>0</td>\n",
       "      <td>0</td>\n",
       "      <td>0</td>\n",
       "      <td>...</td>\n",
       "      <td>0</td>\n",
       "      <td>0</td>\n",
       "      <td>0</td>\n",
       "      <td>0</td>\n",
       "      <td>0</td>\n",
       "      <td>0</td>\n",
       "      <td>0</td>\n",
       "      <td>0</td>\n",
       "      <td>0</td>\n",
       "      <td>0</td>\n",
       "    </tr>\n",
       "    <tr>\n",
       "      <th>1</th>\n",
       "      <td>0</td>\n",
       "      <td>0</td>\n",
       "      <td>0</td>\n",
       "      <td>0</td>\n",
       "      <td>0</td>\n",
       "      <td>0</td>\n",
       "      <td>0</td>\n",
       "      <td>0</td>\n",
       "      <td>0</td>\n",
       "      <td>0</td>\n",
       "      <td>...</td>\n",
       "      <td>0</td>\n",
       "      <td>0</td>\n",
       "      <td>0</td>\n",
       "      <td>0</td>\n",
       "      <td>0</td>\n",
       "      <td>0</td>\n",
       "      <td>0</td>\n",
       "      <td>0</td>\n",
       "      <td>0</td>\n",
       "      <td>0</td>\n",
       "    </tr>\n",
       "    <tr>\n",
       "      <th>2</th>\n",
       "      <td>1</td>\n",
       "      <td>0</td>\n",
       "      <td>0</td>\n",
       "      <td>0</td>\n",
       "      <td>0</td>\n",
       "      <td>0</td>\n",
       "      <td>0</td>\n",
       "      <td>0</td>\n",
       "      <td>0</td>\n",
       "      <td>0</td>\n",
       "      <td>...</td>\n",
       "      <td>0</td>\n",
       "      <td>0</td>\n",
       "      <td>0</td>\n",
       "      <td>0</td>\n",
       "      <td>0</td>\n",
       "      <td>0</td>\n",
       "      <td>0</td>\n",
       "      <td>0</td>\n",
       "      <td>0</td>\n",
       "      <td>0</td>\n",
       "    </tr>\n",
       "  </tbody>\n",
       "</table>\n",
       "<p>3 rows × 785 columns</p>\n",
       "</div>"
      ],
      "text/plain": [
       "   label  pixel0  pixel1  pixel2  pixel3  pixel4  pixel5  pixel6  pixel7  \\\n",
       "0      1       0       0       0       0       0       0       0       0   \n",
       "1      0       0       0       0       0       0       0       0       0   \n",
       "2      1       0       0       0       0       0       0       0       0   \n",
       "\n",
       "   pixel8    ...     pixel774  pixel775  pixel776  pixel777  pixel778  \\\n",
       "0       0    ...            0         0         0         0         0   \n",
       "1       0    ...            0         0         0         0         0   \n",
       "2       0    ...            0         0         0         0         0   \n",
       "\n",
       "   pixel779  pixel780  pixel781  pixel782  pixel783  \n",
       "0         0         0         0         0         0  \n",
       "1         0         0         0         0         0  \n",
       "2         0         0         0         0         0  \n",
       "\n",
       "[3 rows x 785 columns]"
      ]
     },
     "execution_count": 3,
     "metadata": {},
     "output_type": "execute_result"
    }
   ],
   "source": [
    "data_train.head(n=3)"
   ]
  },
  {
   "cell_type": "code",
   "execution_count": 4,
   "metadata": {
    "collapsed": false
   },
   "outputs": [],
   "source": [
    "np_train = data_train.values\n",
    "np_test_X = data_test.values"
   ]
  },
  {
   "cell_type": "markdown",
   "metadata": {},
   "source": [
    "Checking the size of the data and dividing training data into samples and target."
   ]
  },
  {
   "cell_type": "code",
   "execution_count": 5,
   "metadata": {
    "collapsed": false
   },
   "outputs": [
    {
     "name": "stdout",
     "output_type": "stream",
     "text": [
      "(42000, 785)\n",
      "(28000, 784)\n"
     ]
    }
   ],
   "source": [
    "print np_train.shape\n",
    "print np_test_X.shape\n",
    "np_train_Y = np_train[:,0]\n",
    "np_train_X = np_train[:,1:]"
   ]
  },
  {
   "cell_type": "markdown",
   "metadata": {},
   "source": [
    "We know how the data looks like, but just for the sake of completeness, visualizing it."
   ]
  },
  {
   "cell_type": "code",
   "execution_count": 6,
   "metadata": {
    "collapsed": false
   },
   "outputs": [
    {
     "data": {
      "image/png": "[encoded data removed]",
      "text/plain": [
       "<matplotlib.figure.Figure at 0x119d5b950>"
      ]
     },
     "metadata": {},
     "output_type": "display_data"
    }
   ],
   "source": [
    "def show_data(imgs, names=None):\n",
    "    n = 10\n",
    "    plt.figure(figsize=(10, 5))\n",
    "    plt.gray()\n",
    "    for i in xrange(n):\n",
    "        ax = plt.subplot(1, n, i + 1)\n",
    "        ax.matshow(imgs[i,...])\n",
    "        plt.xticks([])\n",
    "        plt.yticks([])\n",
    "        if names is not None:\n",
    "            plt.title(names[i])\n",
    "\n",
    "images = np_train_X.reshape((42000, 28, 28))\n",
    "show_data(images, np_train_Y)"
   ]
  },
  {
   "cell_type": "markdown",
   "metadata": {},
   "source": [
    "Grouping values that belong to the same class together. I also normalize the data `X_`."
   ]
  },
  {
   "cell_type": "code",
   "execution_count": 7,
   "metadata": {
    "collapsed": true
   },
   "outputs": [],
   "source": [
    "X = np.vstack([np_train_X[np_train_Y == i] for i in xrange(10)])\n",
    "y = np.hstack([np_train_Y[np_train_Y==i] for i in xrange(10)])\n",
    "X_ = X / 255."
   ]
  },
  {
   "cell_type": "markdown",
   "metadata": {},
   "source": [
    "-----\n",
    "Before going further, I am going to split data into test/train set and write a helper function which calculates the percentage of correct data."
   ]
  },
  {
   "cell_type": "code",
   "execution_count": 8,
   "metadata": {
    "collapsed": false
   },
   "outputs": [],
   "source": [
    "def show_score(y_real, y_predicted):\n",
    "    return sum(y_real == y_predicted) / float(len(y_real))"
   ]
  },
  {
   "cell_type": "code",
   "execution_count": 12,
   "metadata": {
    "collapsed": false
   },
   "outputs": [],
   "source": [
    "from sklearn.cross_validation import train_test_split\n",
    "from sklearn import linear_model\n",
    "from sklearn import svm\n",
    "from sklearn import neighbors\n",
    "from sklearn import tree\n",
    "from sklearn import ensemble\n",
    "import xgboost as xgb\n",
    "X_train, X_test, y_train, y_test = train_test_split(X_, y, test_size=0.40, random_state=0)"
   ]
  },
  {
   "cell_type": "markdown",
   "metadata": {},
   "source": [
    "Now run many different classifiers just to see how they perform out of the box without dimensionality reduction\n",
    "## Trying many models with no tuning, no dimensionality reduction"
   ]
  },
  {
   "cell_type": "code",
   "execution_count": 10,
   "metadata": {
    "collapsed": false
   },
   "outputs": [
    {
     "name": "stdout",
     "output_type": "stream",
     "text": [
      "0.91369047619\n",
      "CPU times: user 26.5 s, sys: 466 ms, total: 27 s\n",
      "Wall time: 27.5 s\n"
     ]
    }
   ],
   "source": [
    "%%time\n",
    "clf = linear_model.LogisticRegression(penalty='l1').fit(X_train, y_train)\n",
    "print show_score(clf.predict(X_test), y_test)"
   ]
  },
  {
   "cell_type": "code",
   "execution_count": 11,
   "metadata": {
    "collapsed": false
   },
   "outputs": [
    {
     "name": "stdout",
     "output_type": "stream",
     "text": [
      "0.848630952381\n",
      "CPU times: user 1.68 s, sys: 154 ms, total: 1.84 s\n",
      "Wall time: 971 ms\n"
     ]
    }
   ],
   "source": [
    "%%time\n",
    "clf = linear_model.RidgeClassifier(alpha=.5).fit(X_train, y_train)\n",
    "print show_score(clf.predict(X_test), y_test)"
   ]
  },
  {
   "cell_type": "code",
   "execution_count": 12,
   "metadata": {
    "collapsed": false
   },
   "outputs": [
    {
     "name": "stdout",
     "output_type": "stream",
     "text": [
      "0.93255952381\n",
      "CPU times: user 6min 4s, sys: 2.32 s, total: 6min 6s\n",
      "Wall time: 6min 10s\n"
     ]
    }
   ],
   "source": [
    "%%time\n",
    "clf = svm.SVC().fit(X_train, y_train)\n",
    "print show_score(clf.predict(X_test), y_test)"
   ]
  },
  {
   "cell_type": "code",
   "execution_count": 13,
   "metadata": {
    "collapsed": false
   },
   "outputs": [
    {
     "name": "stdout",
     "output_type": "stream",
     "text": [
      "0.112857142857\n",
      "CPU times: user 25min 24s, sys: 6.34 s, total: 25min 30s\n",
      "Wall time: 25min 39s\n"
     ]
    }
   ],
   "source": [
    "%%time\n",
    "clf = svm.SVC(kernel=\"sigmoid\").fit(X_train, y_train)\n",
    "print show_score(clf.predict(X_test), y_test)"
   ]
  },
  {
   "cell_type": "code",
   "execution_count": 14,
   "metadata": {
    "collapsed": false
   },
   "outputs": [
    {
     "name": "stdout",
     "output_type": "stream",
     "text": [
      "0.907321428571\n",
      "CPU times: user 32.5 s, sys: 70.1 ms, total: 32.6 s\n",
      "Wall time: 32.6 s\n"
     ]
    }
   ],
   "source": [
    "%%time\n",
    "clf = svm.LinearSVC().fit(X_train, y_train)\n",
    "print show_score(clf.predict(X_test), y_test)"
   ]
  },
  {
   "cell_type": "code",
   "execution_count": 15,
   "metadata": {
    "collapsed": false
   },
   "outputs": [
    {
     "name": "stdout",
     "output_type": "stream",
     "text": [
      "0.883273809524\n",
      "CPU times: user 19min 5s, sys: 1.71 s, total: 19min 7s\n",
      "Wall time: 19min 7s\n"
     ]
    }
   ],
   "source": [
    "%%time\n",
    "clf = svm.NuSVC().fit(X_train, y_train)\n",
    "print show_score(clf.predict(X_test), y_test)"
   ]
  },
  {
   "cell_type": "code",
   "execution_count": 16,
   "metadata": {
    "collapsed": false
   },
   "outputs": [
    {
     "name": "stdout",
     "output_type": "stream",
     "text": [
      "0.880952380952\n",
      "CPU times: user 1.54 s, sys: 37.1 ms, total: 1.57 s\n",
      "Wall time: 1.49 s\n"
     ]
    }
   ],
   "source": [
    "%%time\n",
    "clf = linear_model.SGDClassifier(loss=\"hinge\", penalty=\"l2\").fit(X_train, y_train)\n",
    "print show_score(clf.predict(X_test), y_test)"
   ]
  },
  {
   "cell_type": "code",
   "execution_count": 23,
   "metadata": {
    "collapsed": false
   },
   "outputs": [
    {
     "name": "stdout",
     "output_type": "stream",
     "text": [
      "0.899464285714\n",
      "CPU times: user 5.56 s, sys: 65.9 ms, total: 5.63 s\n",
      "Wall time: 5.58 s\n"
     ]
    }
   ],
   "source": [
    "%%time\n",
    "clf = linear_model.SGDClassifier(loss=\"hinge\", penalty=\"l1\").fit(X_train, y_train)\n",
    "print show_score(clf.predict(X_test), y_test)"
   ]
  },
  {
   "cell_type": "code",
   "execution_count": 17,
   "metadata": {
    "collapsed": false
   },
   "outputs": [
    {
     "name": "stdout",
     "output_type": "stream",
     "text": [
      "0.965357142857\n",
      "CPU times: user 9min 23s, sys: 2.86 s, total: 9min 26s\n",
      "Wall time: 9min 32s\n"
     ]
    }
   ],
   "source": [
    "%%time\n",
    "clf = neighbors.KNeighborsClassifier().fit(X_train, y_train)\n",
    "print show_score(clf.predict(X_test), y_test)"
   ]
  },
  {
   "cell_type": "code",
   "execution_count": 18,
   "metadata": {
    "collapsed": false
   },
   "outputs": [
    {
     "name": "stdout",
     "output_type": "stream",
     "text": [
      "0.85375\n",
      "CPU times: user 9.24 s, sys: 105 ms, total: 9.35 s\n",
      "Wall time: 9.45 s\n"
     ]
    }
   ],
   "source": [
    "%%time\n",
    "clf = tree.DecisionTreeClassifier().fit(X_train, y_train)\n",
    "print show_score(clf.predict(X_test), y_test)"
   ]
  },
  {
   "cell_type": "code",
   "execution_count": 19,
   "metadata": {
    "collapsed": false
   },
   "outputs": [
    {
     "name": "stdout",
     "output_type": "stream",
     "text": [
      "0.962083333333\n",
      "CPU times: user 21.6 s, sys: 390 ms, total: 22 s\n",
      "Wall time: 22.3 s\n"
     ]
    }
   ],
   "source": [
    "%%time\n",
    "clf = ensemble.RandomForestClassifier(n_estimators=100).fit(X_train, y_train)\n",
    "print show_score(clf.predict(X_test), y_test)"
   ]
  },
  {
   "cell_type": "code",
   "execution_count": 20,
   "metadata": {
    "collapsed": false
   },
   "outputs": [
    {
     "name": "stdout",
     "output_type": "stream",
     "text": [
      "0.702321428571\n",
      "CPU times: user 37.2 s, sys: 324 ms, total: 37.5 s\n",
      "Wall time: 38 s\n"
     ]
    }
   ],
   "source": [
    "%%time\n",
    "clf = ensemble.AdaBoostClassifier().fit(X_train, y_train)\n",
    "print show_score(clf.predict(X_test), y_test)"
   ]
  },
  {
   "cell_type": "code",
   "execution_count": 21,
   "metadata": {
    "collapsed": false
   },
   "outputs": [
    {
     "name": "stdout",
     "output_type": "stream",
     "text": [
      "0.941369047619\n",
      "CPU times: user 30min 29s, sys: 10.8 s, total: 30min 39s\n",
      "Wall time: 30min 59s\n"
     ]
    }
   ],
   "source": [
    "%%time\n",
    "clf = ensemble.GradientBoostingClassifier().fit(X_train, y_train)\n",
    "print show_score(clf.predict(X_test), y_test)"
   ]
  },
  {
   "cell_type": "code",
   "execution_count": 22,
   "metadata": {
    "collapsed": false
   },
   "outputs": [
    {
     "name": "stdout",
     "output_type": "stream",
     "text": [
      "0.91875\n",
      "CPU times: user 56.1 s, sys: 1.58 s, total: 57.7 s\n",
      "Wall time: 58.1 s\n"
     ]
    }
   ],
   "source": [
    "%%time\n",
    "clf = ensemble.BaggingClassifier().fit(X_train, y_train)\n",
    "print show_score(clf.predict(X_test), y_test)"
   ]
  },
  {
   "cell_type": "code",
   "execution_count": 11,
   "metadata": {
    "collapsed": false
   },
   "outputs": [
    {
     "name": "stdout",
     "output_type": "stream",
     "text": [
      "0.954404761905\n",
      "CPU times: user 21min 13s, sys: 6.85 s, total: 21min 20s\n",
      "Wall time: 21min 30s\n"
     ]
    }
   ],
   "source": [
    "%%time\n",
    "clf = xgb.XGBClassifier(max_depth=7, n_estimators=100, learning_rate=0.05).fit(X_train, y_train)\n",
    "print show_score(clf.predict(X_test), y_test)"
   ]
  },
  {
   "cell_type": "markdown",
   "metadata": {},
   "source": [
    "The data does not have missing values, outliers and it is already normalized. So I can only try to reduce dimensionality.\n",
    "\n",
    "## Few models with dimensionality reduction"
   ]
  },
  {
   "cell_type": "code",
   "execution_count": 10,
   "metadata": {
    "collapsed": false
   },
   "outputs": [
    {
     "name": "stdout",
     "output_type": "stream",
     "text": [
      "0.826230681117\n"
     ]
    }
   ],
   "source": [
    "from sklearn.decomposition import PCA\n",
    "pca = PCA(n_components=50)\n",
    "pca.fit(X_train)\n",
    "print sum(pca.explained_variance_ratio_) "
   ]
  },
  {
   "cell_type": "code",
   "execution_count": 11,
   "metadata": {
    "collapsed": false
   },
   "outputs": [],
   "source": [
    "X_train_, X_test_ = pca.transform(X_train), pca.transform(X_test) "
   ]
  },
  {
   "cell_type": "code",
   "execution_count": 12,
   "metadata": {
    "collapsed": false
   },
   "outputs": [
    {
     "name": "stdout",
     "output_type": "stream",
     "text": [
      "0.933333333333\n",
      "CPU times: user 3min 20s, sys: 573 ms, total: 3min 20s\n",
      "Wall time: 3min 21s\n"
     ]
    }
   ],
   "source": [
    "%%time\n",
    "clf = xgb.XGBClassifier(max_depth=7, n_estimators=100, learning_rate=0.05).fit(X_train_, y_train)\n",
    "print show_score(clf.predict(X_test_), y_test)"
   ]
  },
  {
   "cell_type": "code",
   "execution_count": 13,
   "metadata": {
    "collapsed": false
   },
   "outputs": [
    {
     "name": "stdout",
     "output_type": "stream",
     "text": [
      "0.94875\n",
      "CPU times: user 25.1 s, sys: 279 ms, total: 25.4 s\n",
      "Wall time: 25.5 s\n"
     ]
    }
   ],
   "source": [
    "%%time\n",
    "clf = ensemble.RandomForestClassifier(n_estimators=100).fit(X_train_, y_train)\n",
    "print show_score(clf.predict(X_test_), y_test)"
   ]
  },
  {
   "cell_type": "code",
   "execution_count": 14,
   "metadata": {
    "collapsed": false
   },
   "outputs": [
    {
     "name": "stdout",
     "output_type": "stream",
     "text": [
      "0.972916666667\n",
      "CPU times: user 37.9 s, sys: 126 ms, total: 38 s\n",
      "Wall time: 38.1 s\n"
     ]
    }
   ],
   "source": [
    "%%time\n",
    "clf = neighbors.KNeighborsClassifier().fit(X_train_, y_train)\n",
    "print show_score(clf.predict(X_test_), y_test)"
   ]
  },
  {
   "cell_type": "markdown",
   "metadata": {},
   "source": [
    "It looks like dimensionality reduction helps a little bit (at least with k-nn). The last attempt is to do some parameter tuning. For this I need to divide into train, test, validation. Then I will try Random forest, XGBoost, k-nn, SVC, logistic regression.\n",
    "\n",
    "## Parameter tuning with PCA"
   ]
  },
  {
   "cell_type": "code",
   "execution_count": 9,
   "metadata": {
    "collapsed": false
   },
   "outputs": [],
   "source": [
    "from sklearn.decomposition import PCA\n",
    "from sklearn.cross_validation import KFold, cross_val_score\n",
    "from sklearn.grid_search import GridSearchCV\n",
    "X_reduced = PCA(n_components=50).fit_transform(X_)"
   ]
  },
  {
   "cell_type": "code",
   "execution_count": 22,
   "metadata": {
    "collapsed": false
   },
   "outputs": [
    {
     "name": "stdout",
     "output_type": "stream",
     "text": [
      "0.878880952381\n",
      "CPU times: user 953 ms, sys: 34.3 ms, total: 988 ms\n",
      "Wall time: 978 ms\n"
     ]
    }
   ],
   "source": [
    "%%time\n",
    "k_fold = KFold(len(y), n_folds=2, shuffle=True, random_state=0)\n",
    "clf = linear_model.SGDClassifier(loss=\"hinge\", penalty=\"l1\")\n",
    "print np.average(cross_val_score(clf, X_reduced, y, cv=k_fold, n_jobs=1))"
   ]
  },
  {
   "cell_type": "code",
   "execution_count": 30,
   "metadata": {
    "collapsed": false
   },
   "outputs": [
    {
     "name": "stdout",
     "output_type": "stream",
     "text": [
      "KNeighborsClassifier(algorithm='auto', leaf_size=30, metric='minkowski',\n",
      "           metric_params=None, n_jobs=1, n_neighbors=5, p=2,\n",
      "           weights='distance')\n",
      "0.970095238095\n",
      "CPU times: user 1h 14min 53s, sys: 23.3 s, total: 1h 15min 16s\n",
      "Wall time: 1h 15min 57s\n"
     ]
    }
   ],
   "source": [
    "%%time\n",
    "parameters = {\n",
    "    'n_neighbors': [5, 10, 15],\n",
    "    'weights':['uniform', 'distance'],\n",
    "    'p': [1, 2, 3]\n",
    "}\n",
    "model = neighbors.KNeighborsClassifier()\n",
    "clf = GridSearchCV(model, parameters, cv=k_fold)\n",
    "clf.fit(X_reduced, y)\n",
    "print clf.grid_scores_\n",
    "print clf.best_score_"
   ]
  },
  {
   "cell_type": "code",
   "execution_count": 31,
   "metadata": {
    "collapsed": false
   },
   "outputs": [
    {
     "name": "stdout",
     "output_type": "stream",
     "text": [
      "[mean: 0.81638, std: 0.00910, params: {'n_estimators': 100, 'criterion': 'gini', 'max_depth': 5}, mean: 0.81757, std: 0.00043, params: {'n_estimators': 200, 'criterion': 'gini', 'max_depth': 5}, mean: 0.82071, std: 0.00133, params: {'n_estimators': 300, 'criterion': 'gini', 'max_depth': 5}, mean: 0.88493, std: 0.00107, params: {'n_estimators': 100, 'criterion': 'gini', 'max_depth': 8}, mean: 0.88740, std: 0.00131, params: {'n_estimators': 200, 'criterion': 'gini', 'max_depth': 8}, mean: 0.88814, std: 0.00267, params: {'n_estimators': 300, 'criterion': 'gini', 'max_depth': 8}, mean: 0.90852, std: 0.00452, params: {'n_estimators': 100, 'criterion': 'gini', 'max_depth': 10}, mean: 0.91152, std: 0.00224, params: {'n_estimators': 200, 'criterion': 'gini', 'max_depth': 10}, mean: 0.91271, std: 0.00324, params: {'n_estimators': 300, 'criterion': 'gini', 'max_depth': 10}, mean: 0.93679, std: 0.00326, params: {'n_estimators': 100, 'criterion': 'gini', 'max_depth': 15}, mean: 0.93943, std: 0.00271, params: {'n_estimators': 200, 'criterion': 'gini', 'max_depth': 15}, mean: 0.93945, std: 0.00293, params: {'n_estimators': 300, 'criterion': 'gini', 'max_depth': 15}, mean: 0.81376, std: 0.00362, params: {'n_estimators': 100, 'criterion': 'entropy', 'max_depth': 5}, mean: 0.82033, std: 0.00148, params: {'n_estimators': 200, 'criterion': 'entropy', 'max_depth': 5}, mean: 0.82126, std: 0.00031, params: {'n_estimators': 300, 'criterion': 'entropy', 'max_depth': 5}, mean: 0.89236, std: 0.00250, params: {'n_estimators': 100, 'criterion': 'entropy', 'max_depth': 8}, mean: 0.89357, std: 0.00319, params: {'n_estimators': 200, 'criterion': 'entropy', 'max_depth': 8}, mean: 0.89619, std: 0.00262, params: {'n_estimators': 300, 'criterion': 'entropy', 'max_depth': 8}, mean: 0.91931, std: 0.00226, params: {'n_estimators': 100, 'criterion': 'entropy', 'max_depth': 10}, mean: 0.92017, std: 0.00112, params: {'n_estimators': 200, 'criterion': 'entropy', 'max_depth': 10}, mean: 0.92100, std: 0.00248, params: {'n_estimators': 300, 'criterion': 'entropy', 'max_depth': 10}, mean: 0.93860, std: 0.00260, params: {'n_estimators': 100, 'criterion': 'entropy', 'max_depth': 15}, mean: 0.94100, std: 0.00324, params: {'n_estimators': 200, 'criterion': 'entropy', 'max_depth': 15}, mean: 0.94148, std: 0.00276, params: {'n_estimators': 300, 'criterion': 'entropy', 'max_depth': 15}]\n",
      "0.941476190476\n",
      "CPU times: user 47min 2s, sys: 18.9 s, total: 47min 21s\n",
      "Wall time: 47min 32s\n"
     ]
    }
   ],
   "source": [
    "%%time\n",
    "parameters = {\n",
    "    'n_estimators': [100, 200, 300],\n",
    "    'criterion':['gini', 'entropy'],\n",
    "    'max_depth': [5, 8, 10, 15]\n",
    "}\n",
    "model = ensemble.RandomForestClassifier()\n",
    "clf = GridSearchCV(model, parameters, cv=k_fold)\n",
    "clf.fit(X_reduced, y)\n",
    "print clf.grid_scores_\n",
    "print clf.best_score_"
   ]
  },
  {
   "cell_type": "code",
   "execution_count": 33,
   "metadata": {
    "collapsed": false
   },
   "outputs": [
    {
     "name": "stdout",
     "output_type": "stream",
     "text": [
      "[mean: 0.93550, std: 0.00288, params: {'n_estimators': 100, 'learning_rate': 0.1, 'max_depth': 5}, mean: 0.94845, std: 0.00379, params: {'n_estimators': 200, 'learning_rate': 0.1, 'max_depth': 5}, mean: 0.95307, std: 0.00312, params: {'n_estimators': 300, 'learning_rate': 0.1, 'max_depth': 5}, mean: 0.94162, std: 0.00290, params: {'n_estimators': 100, 'learning_rate': 0.1, 'max_depth': 10}, mean: 0.94879, std: 0.00226, params: {'n_estimators': 200, 'learning_rate': 0.1, 'max_depth': 10}, mean: 0.95048, std: 0.00214, params: {'n_estimators': 300, 'learning_rate': 0.1, 'max_depth': 10}, mean: 0.94152, std: 0.00252, params: {'n_estimators': 100, 'learning_rate': 0.1, 'max_depth': 15}, mean: 0.94750, std: 0.00231, params: {'n_estimators': 200, 'learning_rate': 0.1, 'max_depth': 15}, mean: 0.94936, std: 0.00212, params: {'n_estimators': 300, 'learning_rate': 0.1, 'max_depth': 15}, mean: 0.85593, std: 0.00036, params: {'n_estimators': 100, 'learning_rate': 0.01, 'max_depth': 5}, mean: 0.87617, std: 0.00131, params: {'n_estimators': 200, 'learning_rate': 0.01, 'max_depth': 5}, mean: 0.89124, std: 0.00219, params: {'n_estimators': 300, 'learning_rate': 0.01, 'max_depth': 5}, mean: 0.90231, std: 0.00164, params: {'n_estimators': 100, 'learning_rate': 0.01, 'max_depth': 10}, mean: 0.91314, std: 0.00219, params: {'n_estimators': 200, 'learning_rate': 0.01, 'max_depth': 10}, mean: 0.92136, std: 0.00302, params: {'n_estimators': 300, 'learning_rate': 0.01, 'max_depth': 10}, mean: 0.90550, std: 0.00160, params: {'n_estimators': 100, 'learning_rate': 0.01, 'max_depth': 15}, mean: 0.91657, std: 0.00286, params: {'n_estimators': 200, 'learning_rate': 0.01, 'max_depth': 15}, mean: 0.92362, std: 0.00290, params: {'n_estimators': 300, 'learning_rate': 0.01, 'max_depth': 15}, mean: 0.95493, std: 0.00174, params: {'n_estimators': 100, 'learning_rate': 0.5, 'max_depth': 5}, mean: 0.95664, std: 0.00155, params: {'n_estimators': 200, 'learning_rate': 0.5, 'max_depth': 5}, mean: 0.95686, std: 0.00195, params: {'n_estimators': 300, 'learning_rate': 0.5, 'max_depth': 5}, mean: 0.94945, std: 0.00045, params: {'n_estimators': 100, 'learning_rate': 0.5, 'max_depth': 10}, mean: 0.95086, std: 0.00081, params: {'n_estimators': 200, 'learning_rate': 0.5, 'max_depth': 10}, mean: 0.95102, std: 0.00079, params: {'n_estimators': 300, 'learning_rate': 0.5, 'max_depth': 10}, mean: 0.94771, std: 0.00038, params: {'n_estimators': 100, 'learning_rate': 0.5, 'max_depth': 15}, mean: 0.94945, std: 0.00045, params: {'n_estimators': 200, 'learning_rate': 0.5, 'max_depth': 15}, mean: 0.94986, std: 0.00057, params: {'n_estimators': 300, 'learning_rate': 0.5, 'max_depth': 15}]\n",
      "0.956857142857\n",
      "CPU times: user 4h 31min 52s, sys: 51.7 s, total: 4h 32min 44s\n",
      "Wall time: 4h 34min 26s\n"
     ]
    }
   ],
   "source": [
    "%%time\n",
    "parameters = {\n",
    "    'n_estimators': [100, 200, 300],\n",
    "    'learning_rate':[0.1, 0.01, 0.5],\n",
    "    'max_depth': [5, 10, 15]\n",
    "}\n",
    "model = xgb.XGBClassifier()\n",
    "clf = GridSearchCV(model, parameters, cv=k_fold)\n",
    "clf.fit(X_reduced, y)\n",
    "print clf.grid_scores_\n",
    "print clf.best_score_"
   ]
  },
  {
   "cell_type": "markdown",
   "metadata": {},
   "source": [
    "---\n",
    "## It looks like k-NN gave the best results."
   ]
  },
  {
   "cell_type": "code",
   "execution_count": 15,
   "metadata": {
    "collapsed": false
   },
   "outputs": [],
   "source": [
    "pca = PCA(n_components=50)\n",
    "pca.fit(X_)\n",
    "X_train, X_test = pca.transform(X_), pca.transform(np_test_X / 255.)"
   ]
  },
  {
   "cell_type": "code",
   "execution_count": 18,
   "metadata": {
    "collapsed": false
   },
   "outputs": [
    {
     "name": "stdout",
     "output_type": "stream",
     "text": [
      "(42000, 50)\n",
      "(42000,)\n"
     ]
    }
   ],
   "source": [
    "print X_train.shape\n",
    "print y.shape"
   ]
  },
  {
   "cell_type": "code",
   "execution_count": 19,
   "metadata": {
    "collapsed": false
   },
   "outputs": [
    {
     "name": "stdout",
     "output_type": "stream",
     "text": [
      "CPU times: user 1min 45s, sys: 716 ms, total: 1min 46s\n",
      "Wall time: 1min 47s\n"
     ]
    }
   ],
   "source": [
    "%%time\n",
    "clf = neighbors.KNeighborsClassifier(n_neighbors=5, p=2)\n",
    "clf.fit(X_train, y)\n",
    "res = clf.predict(X_test)"
   ]
  },
  {
   "cell_type": "code",
   "execution_count": 20,
   "metadata": {
    "collapsed": true
   },
   "outputs": [],
   "source": [
    "submission = pd.DataFrame({\"ImageId\": range(1, X_test.shape[0] + 1), \"label\": res})\n",
    "submission.to_csv(\"output.csv\", index=False)"
   ]
  }
 ],
 "metadata": {
  "kernelspec": {
   "display_name": "Python 2",
   "language": "python",
   "name": "python2"
  },
  "language_info": {
   "codemirror_mode": {
    "name": "ipython",
    "version": 2
   },
   "file_extension": ".py",
   "mimetype": "text/x-python",
   "name": "python",
   "nbconvert_exporter": "python",
   "pygments_lexer": "ipython2",
   "version": "2.7.11"
  },
  "widgets": {
   "state": {},
   "version": "1.1.2"
  }
 },
 "nbformat": 4,
 "nbformat_minor": 0
}
