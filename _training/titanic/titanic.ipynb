{
 "cells": [
  {
   "cell_type": "markdown",
   "metadata": {},
   "source": [
    "# Titanic\n",
    "\n",
    "Knowledge competition. [Predicts whether the person will survive or die on Titanic](https://www.kaggle.com/c/titanic/)"
   ]
  },
  {
   "cell_type": "code",
   "execution_count": 1,
   "metadata": {
    "collapsed": true
   },
   "outputs": [],
   "source": [
    "import pandas as pd\n",
    "import numpy as np\n",
    "from IPython.display import display, HTML, clear_output\n",
    "\n",
    "data_train = pd.DataFrame.from_csv(\"data/train.csv\", index_col='PassengerId')\n",
    "data_test  = pd.DataFrame.from_csv(\"data/test.csv\",  index_col='PassengerId')"
   ]
  },
  {
   "cell_type": "code",
   "execution_count": 2,
   "metadata": {
    "collapsed": false
   },
   "outputs": [
    {
     "name": "stdout",
     "output_type": "stream",
     "text": [
      "(891, 11)\n"
     ]
    },
    {
     "data": {
      "text/html": [
       "<div>\n",
       "<table border=\"1\" class=\"dataframe\">\n",
       "  <thead>\n",
       "    <tr style=\"text-align: right;\">\n",
       "      <th></th>\n",
       "      <th>Survived</th>\n",
       "      <th>Pclass</th>\n",
       "      <th>Name</th>\n",
       "      <th>Sex</th>\n",
       "      <th>Age</th>\n",
       "      <th>SibSp</th>\n",
       "      <th>Parch</th>\n",
       "      <th>Ticket</th>\n",
       "      <th>Fare</th>\n",
       "      <th>Cabin</th>\n",
       "      <th>Embarked</th>\n",
       "    </tr>\n",
       "    <tr>\n",
       "      <th>PassengerId</th>\n",
       "      <th></th>\n",
       "      <th></th>\n",
       "      <th></th>\n",
       "      <th></th>\n",
       "      <th></th>\n",
       "      <th></th>\n",
       "      <th></th>\n",
       "      <th></th>\n",
       "      <th></th>\n",
       "      <th></th>\n",
       "      <th></th>\n",
       "    </tr>\n",
       "  </thead>\n",
       "  <tbody>\n",
       "    <tr>\n",
       "      <th>1</th>\n",
       "      <td>0</td>\n",
       "      <td>3</td>\n",
       "      <td>Braund, Mr. Owen Harris</td>\n",
       "      <td>male</td>\n",
       "      <td>22.0</td>\n",
       "      <td>1</td>\n",
       "      <td>0</td>\n",
       "      <td>A/5 21171</td>\n",
       "      <td>7.2500</td>\n",
       "      <td>NaN</td>\n",
       "      <td>S</td>\n",
       "    </tr>\n",
       "    <tr>\n",
       "      <th>2</th>\n",
       "      <td>1</td>\n",
       "      <td>1</td>\n",
       "      <td>Cumings, Mrs. John Bradley (Florence Briggs Th...</td>\n",
       "      <td>female</td>\n",
       "      <td>38.0</td>\n",
       "      <td>1</td>\n",
       "      <td>0</td>\n",
       "      <td>PC 17599</td>\n",
       "      <td>71.2833</td>\n",
       "      <td>C85</td>\n",
       "      <td>C</td>\n",
       "    </tr>\n",
       "    <tr>\n",
       "      <th>3</th>\n",
       "      <td>1</td>\n",
       "      <td>3</td>\n",
       "      <td>Heikkinen, Miss. Laina</td>\n",
       "      <td>female</td>\n",
       "      <td>26.0</td>\n",
       "      <td>0</td>\n",
       "      <td>0</td>\n",
       "      <td>STON/O2. 3101282</td>\n",
       "      <td>7.9250</td>\n",
       "      <td>NaN</td>\n",
       "      <td>S</td>\n",
       "    </tr>\n",
       "    <tr>\n",
       "      <th>4</th>\n",
       "      <td>1</td>\n",
       "      <td>1</td>\n",
       "      <td>Futrelle, Mrs. Jacques Heath (Lily May Peel)</td>\n",
       "      <td>female</td>\n",
       "      <td>35.0</td>\n",
       "      <td>1</td>\n",
       "      <td>0</td>\n",
       "      <td>113803</td>\n",
       "      <td>53.1000</td>\n",
       "      <td>C123</td>\n",
       "      <td>S</td>\n",
       "    </tr>\n",
       "    <tr>\n",
       "      <th>5</th>\n",
       "      <td>0</td>\n",
       "      <td>3</td>\n",
       "      <td>Allen, Mr. William Henry</td>\n",
       "      <td>male</td>\n",
       "      <td>35.0</td>\n",
       "      <td>0</td>\n",
       "      <td>0</td>\n",
       "      <td>373450</td>\n",
       "      <td>8.0500</td>\n",
       "      <td>NaN</td>\n",
       "      <td>S</td>\n",
       "    </tr>\n",
       "  </tbody>\n",
       "</table>\n",
       "</div>"
      ],
      "text/plain": [
       "             Survived  Pclass  \\\n",
       "PassengerId                     \n",
       "1                   0       3   \n",
       "2                   1       1   \n",
       "3                   1       3   \n",
       "4                   1       1   \n",
       "5                   0       3   \n",
       "\n",
       "                                                          Name     Sex   Age  \\\n",
       "PassengerId                                                                    \n",
       "1                                      Braund, Mr. Owen Harris    male  22.0   \n",
       "2            Cumings, Mrs. John Bradley (Florence Briggs Th...  female  38.0   \n",
       "3                                       Heikkinen, Miss. Laina  female  26.0   \n",
       "4                 Futrelle, Mrs. Jacques Heath (Lily May Peel)  female  35.0   \n",
       "5                                     Allen, Mr. William Henry    male  35.0   \n",
       "\n",
       "             SibSp  Parch            Ticket     Fare Cabin Embarked  \n",
       "PassengerId                                                          \n",
       "1                1      0         A/5 21171   7.2500   NaN        S  \n",
       "2                1      0          PC 17599  71.2833   C85        C  \n",
       "3                0      0  STON/O2. 3101282   7.9250   NaN        S  \n",
       "4                1      0            113803  53.1000  C123        S  \n",
       "5                0      0            373450   8.0500   NaN        S  "
      ]
     },
     "execution_count": 2,
     "metadata": {},
     "output_type": "execute_result"
    }
   ],
   "source": [
    "print data_train.shape\n",
    "data_train.head()"
   ]
  },
  {
   "cell_type": "markdown",
   "metadata": {},
   "source": [
    "Not a lot of data. On top of this some columns most probably will not be helpful (`name`, `cabin`, `ticket`). Now will investigate missing values."
   ]
  },
  {
   "cell_type": "code",
   "execution_count": 3,
   "metadata": {
    "collapsed": false,
    "scrolled": true
   },
   "outputs": [
    {
     "data": {
      "text/html": [
       "<div>\n",
       "<table border=\"1\" class=\"dataframe\">\n",
       "  <thead>\n",
       "    <tr style=\"text-align: right;\">\n",
       "      <th></th>\n",
       "      <th>Num of Nan</th>\n",
       "    </tr>\n",
       "    <tr>\n",
       "      <th>Column</th>\n",
       "      <th></th>\n",
       "    </tr>\n",
       "  </thead>\n",
       "  <tbody>\n",
       "    <tr>\n",
       "      <th>Age</th>\n",
       "      <td>177</td>\n",
       "    </tr>\n",
       "    <tr>\n",
       "      <th>Cabin</th>\n",
       "      <td>687</td>\n",
       "    </tr>\n",
       "    <tr>\n",
       "      <th>Embarked</th>\n",
       "      <td>2</td>\n",
       "    </tr>\n",
       "  </tbody>\n",
       "</table>\n",
       "</div>"
      ],
      "text/plain": [
       "          Num of Nan\n",
       "Column              \n",
       "Age              177\n",
       "Cabin            687\n",
       "Embarked           2"
      ]
     },
     "metadata": {},
     "output_type": "display_data"
    },
    {
     "data": {
      "text/html": [
       "<div>\n",
       "<table border=\"1\" class=\"dataframe\">\n",
       "  <thead>\n",
       "    <tr style=\"text-align: right;\">\n",
       "      <th></th>\n",
       "      <th>Num of Nan</th>\n",
       "    </tr>\n",
       "    <tr>\n",
       "      <th>Column</th>\n",
       "      <th></th>\n",
       "    </tr>\n",
       "  </thead>\n",
       "  <tbody>\n",
       "    <tr>\n",
       "      <th>Age</th>\n",
       "      <td>86</td>\n",
       "    </tr>\n",
       "    <tr>\n",
       "      <th>Fare</th>\n",
       "      <td>1</td>\n",
       "    </tr>\n",
       "    <tr>\n",
       "      <th>Cabin</th>\n",
       "      <td>327</td>\n",
       "    </tr>\n",
       "  </tbody>\n",
       "</table>\n",
       "</div>"
      ],
      "text/plain": [
       "        Num of Nan\n",
       "Column            \n",
       "Age             86\n",
       "Fare             1\n",
       "Cabin          327"
      ]
     },
     "metadata": {},
     "output_type": "display_data"
    }
   ],
   "source": [
    "def count_missing(data):\n",
    "    res = []\n",
    "    for column in data:\n",
    "        n = data[column].isnull().sum()\n",
    "        if n:\n",
    "            res.append((column, n))\n",
    "    return pd.DataFrame(res, columns=['Column', 'Num of Nan']).set_index(['Column'])\n",
    "\n",
    "display(count_missing(data_train))\n",
    "display(count_missing(data_test))"
   ]
  },
  {
   "cell_type": "markdown",
   "metadata": {},
   "source": [
    "It looks like `Cabin` information is extremely sparse. On top of this I do not belive it will be helpful. I will also impute Age information from [online encyclopedia](https://www.encyclopedia-titanica.org/)"
   ]
  },
  {
   "cell_type": "code",
   "execution_count": 4,
   "metadata": {
    "collapsed": false
   },
   "outputs": [],
   "source": [
    "data_test.drop('Cabin', axis=1, inplace=True)\n",
    "data_train.drop('Cabin', axis=1, inplace=True)"
   ]
  },
  {
   "cell_type": "markdown",
   "metadata": {},
   "source": [
    "So now we have a lot of `Age` missing. Few `Embarked` and one `Fare`. There is a lot of data [written here](https://www.encyclopedia-titanica.org/). So let's see all the missing embarked fields."
   ]
  },
  {
   "cell_type": "code",
   "execution_count": 5,
   "metadata": {
    "collapsed": false
   },
   "outputs": [],
   "source": [
    "data_train.loc[62, 'Embarked'] = 'S'\n",
    "data_train.loc[830, 'Embarked'] = 'S'\n",
    "data_test.loc[1044, 'Fare'] = 0"
   ]
  },
  {
   "cell_type": "code",
   "execution_count": 6,
   "metadata": {
    "collapsed": true
   },
   "outputs": [],
   "source": [
    "for id, age in [\n",
    "    (6, 28), (18, 23), (20, 22), (27, 26), (29, 24), (30, 23), (32, 48), (33, 18), (37, 18),\n",
    "    (43, 50), (46, 30), (47, 20), (48, 27), (49, 16), (56, 46), (65, 64), (66, 7), (77, 23), \n",
    "    (78, 28), (83, 31), (88, 26), (96, 22), (102, 29), (108, 29), (110, 28), (122, 19), (127, 16), (129, 2), (141, 40),\n",
    "    (155, 27), (159, 37), (160, 5), (167, 48), (169, 48), (177, 5), (181, 8), (182, 39), (186, 39), (187, 27),\n",
    "    (197, 28), (199, 21), (202, 17), (215, 22), (224, 22), (236, 12)\n",
    "]:\n",
    "    data_train.loc[id, 'Age'] = age"
   ]
  },
  {
   "cell_type": "markdown",
   "metadata": {},
   "source": [
    "It is actually super boring. I will try to extrapolate age from the name. Miss. suggests that she is < 16."
   ]
  },
  {
   "cell_type": "code",
   "execution_count": 7,
   "metadata": {
    "collapsed": true
   },
   "outputs": [],
   "source": [
    "medial_male = int(data_train[data_train['Sex'] == 'male'][['Age']].mean()['Age'])\n",
    "medial_female = int(data_train[data_train['Sex'] == 'female'][['Age']].mean()['Age'])\n",
    "def guessAge(name, sex):\n",
    "    age = medial_female if sex == 'female' else medial_male\n",
    "    if 'miss' in name.lower():\n",
    "        age = 16\n",
    "        \n",
    "    if 'jr' in name.lower():\n",
    "        age = 20\n",
    "    \n",
    "    if name.count('\"') >= 2:\n",
    "        age -= 5\n",
    "    \n",
    "    return age \n",
    "\n",
    "for index, row in data_train[data_train['Age'].isnull()][['Name', 'Sex', 'SibSp', 'Parch']].iterrows():\n",
    "    data_train.loc[index, 'Age'] = guessAge(row['Name'], row['Sex'])\n",
    "    \n",
    "for index, row in data_test[data_test['Age'].isnull()][['Name', 'Sex', 'SibSp', 'Parch']].iterrows():\n",
    "    data_test.loc[index, 'Age'] = guessAge(row['Name'], row['Sex'])"
   ]
  },
  {
   "cell_type": "markdown",
   "metadata": {},
   "source": [
    "Translate `Sex` into 0, 1 values and also categorize `Embarked` column."
   ]
  },
  {
   "cell_type": "code",
   "execution_count": 8,
   "metadata": {
    "collapsed": true
   },
   "outputs": [],
   "source": [
    "data_train['Sex'] = data_train['Sex'].apply(lambda x: 1 if x == 'male' else 0)\n",
    "data_train.rename(columns={'Sex': 'IsMale'}, inplace=True)\n",
    "\n",
    "data_test['Sex'] = data_test['Sex'].apply(lambda x: 1 if x == 'male' else 0)\n",
    "data_test.rename(columns={'Sex': 'IsMale'}, inplace=True)"
   ]
  },
  {
   "cell_type": "code",
   "execution_count": 9,
   "metadata": {
    "collapsed": true
   },
   "outputs": [],
   "source": [
    "titles = {\n",
    "    \"Capt\":       \"officer\",\n",
    "    \"Col\":        \"officer\",\n",
    "    \"Major\":      \"officer\",\n",
    "    \"Dr\":         \"officer\",\n",
    "    \"Rev\":        \"officer\",\n",
    "\n",
    "    \"Jonkheer\":   \"royalty\",\n",
    "    \"Don\":        \"royalty\",\n",
    "    \"Sir\" :       \"royalty\",\n",
    "    \"the Countess\":\"royalty\",\n",
    "    \"Dona\":       \"royalty\",\n",
    "    \"Master\" :    \"royalty\",\n",
    "    \"Lady\" :      \"royalty\",\n",
    "\n",
    "    \"Mme\":        \"young\",\n",
    "    \"Mlle\":       \"young\",\n",
    "    \"Miss\" :      \"young\",\n",
    "\n",
    "    \"Ms\":         \"other\",\n",
    "    \"Mr\" :        \"other\",\n",
    "    \"Mrs\" :       \"other\",\n",
    "} \n",
    "data_train['Title'] = data_train['Name'].apply(lambda x: titles[x.split(',')[1].split('.')[0].strip()])\n",
    "data_test['Title']  = data_test['Name'].apply(lambda x: titles[x.split(',')[1].split('.')[0].strip()])"
   ]
  },
  {
   "cell_type": "code",
   "execution_count": 10,
   "metadata": {
    "collapsed": true
   },
   "outputs": [],
   "source": [
    "data_test['FamilySize'] = data_test['SibSp'] + data_test['Parch']\n",
    "data_train['FamilySize'] = data_train['SibSp'] + data_train['Parch']"
   ]
  },
  {
   "cell_type": "markdown",
   "metadata": {},
   "source": [
    "Remove all unnecessary columns."
   ]
  },
  {
   "cell_type": "code",
   "execution_count": 11,
   "metadata": {
    "collapsed": true
   },
   "outputs": [],
   "source": [
    "data_test.drop(['Name', 'Ticket', 'SibSp', 'Parch'], axis=1, inplace=True)\n",
    "data_train.drop(['Name', 'Ticket', 'SibSp', 'Parch'], axis=1, inplace=True)"
   ]
  },
  {
   "cell_type": "code",
   "execution_count": 12,
   "metadata": {
    "collapsed": false
   },
   "outputs": [
    {
     "data": {
      "text/html": [
       "<div>\n",
       "<table border=\"1\" class=\"dataframe\">\n",
       "  <thead>\n",
       "    <tr style=\"text-align: right;\">\n",
       "      <th></th>\n",
       "      <th>Survived</th>\n",
       "      <th>Pclass</th>\n",
       "      <th>IsMale</th>\n",
       "      <th>Age</th>\n",
       "      <th>Fare</th>\n",
       "      <th>Embarked</th>\n",
       "      <th>Title</th>\n",
       "      <th>FamilySize</th>\n",
       "    </tr>\n",
       "    <tr>\n",
       "      <th>PassengerId</th>\n",
       "      <th></th>\n",
       "      <th></th>\n",
       "      <th></th>\n",
       "      <th></th>\n",
       "      <th></th>\n",
       "      <th></th>\n",
       "      <th></th>\n",
       "      <th></th>\n",
       "    </tr>\n",
       "  </thead>\n",
       "  <tbody>\n",
       "    <tr>\n",
       "      <th>1</th>\n",
       "      <td>0</td>\n",
       "      <td>3</td>\n",
       "      <td>1</td>\n",
       "      <td>22.0</td>\n",
       "      <td>7.2500</td>\n",
       "      <td>S</td>\n",
       "      <td>other</td>\n",
       "      <td>1</td>\n",
       "    </tr>\n",
       "    <tr>\n",
       "      <th>2</th>\n",
       "      <td>1</td>\n",
       "      <td>1</td>\n",
       "      <td>0</td>\n",
       "      <td>38.0</td>\n",
       "      <td>71.2833</td>\n",
       "      <td>C</td>\n",
       "      <td>other</td>\n",
       "      <td>1</td>\n",
       "    </tr>\n",
       "    <tr>\n",
       "      <th>3</th>\n",
       "      <td>1</td>\n",
       "      <td>3</td>\n",
       "      <td>0</td>\n",
       "      <td>26.0</td>\n",
       "      <td>7.9250</td>\n",
       "      <td>S</td>\n",
       "      <td>young</td>\n",
       "      <td>0</td>\n",
       "    </tr>\n",
       "    <tr>\n",
       "      <th>4</th>\n",
       "      <td>1</td>\n",
       "      <td>1</td>\n",
       "      <td>0</td>\n",
       "      <td>35.0</td>\n",
       "      <td>53.1000</td>\n",
       "      <td>S</td>\n",
       "      <td>other</td>\n",
       "      <td>1</td>\n",
       "    </tr>\n",
       "    <tr>\n",
       "      <th>5</th>\n",
       "      <td>0</td>\n",
       "      <td>3</td>\n",
       "      <td>1</td>\n",
       "      <td>35.0</td>\n",
       "      <td>8.0500</td>\n",
       "      <td>S</td>\n",
       "      <td>other</td>\n",
       "      <td>0</td>\n",
       "    </tr>\n",
       "  </tbody>\n",
       "</table>\n",
       "</div>"
      ],
      "text/plain": [
       "             Survived  Pclass  IsMale   Age     Fare Embarked  Title  \\\n",
       "PassengerId                                                            \n",
       "1                   0       3       1  22.0   7.2500        S  other   \n",
       "2                   1       1       0  38.0  71.2833        C  other   \n",
       "3                   1       3       0  26.0   7.9250        S  young   \n",
       "4                   1       1       0  35.0  53.1000        S  other   \n",
       "5                   0       3       1  35.0   8.0500        S  other   \n",
       "\n",
       "             FamilySize  \n",
       "PassengerId              \n",
       "1                     1  \n",
       "2                     1  \n",
       "3                     0  \n",
       "4                     1  \n",
       "5                     0  "
      ]
     },
     "execution_count": 12,
     "metadata": {},
     "output_type": "execute_result"
    }
   ],
   "source": [
    "data_train.head()"
   ]
  },
  {
   "cell_type": "markdown",
   "metadata": {},
   "source": [
    "Transform categorical features"
   ]
  },
  {
   "cell_type": "code",
   "execution_count": 13,
   "metadata": {
    "collapsed": false
   },
   "outputs": [],
   "source": [
    "Y = data_train['Survived'].values\n",
    "data_train.drop(['Survived'], axis=1, inplace=True)"
   ]
  },
  {
   "cell_type": "code",
   "execution_count": 14,
   "metadata": {
    "collapsed": false
   },
   "outputs": [],
   "source": [
    "tmp = pd.concat([data_train, data_test], axis=0)"
   ]
  },
  {
   "cell_type": "code",
   "execution_count": 15,
   "metadata": {
    "collapsed": false
   },
   "outputs": [],
   "source": [
    "# http://stackoverflow.com/q/32256415/1090562\n",
    "tmp = pd.concat([\n",
    "    tmp, \n",
    "    pd.get_dummies(tmp['Embarked'], prefix='Embarked'),\n",
    "    pd.get_dummies(tmp['Title'], prefix='Title'),\n",
    "    pd.get_dummies(tmp['Pclass'], prefix='Pclass')\n",
    "], axis=1)\n",
    "tmp.drop(['Embarked', 'Title', 'Pclass'], axis=1, inplace=True)"
   ]
  },
  {
   "cell_type": "code",
   "execution_count": 16,
   "metadata": {
    "collapsed": false
   },
   "outputs": [],
   "source": [
    "train_rows = data_train.shape[0]\n",
    "data_train = tmp.iloc[:train_rows, :]\n",
    "data_test = tmp.iloc[train_rows:, :] "
   ]
  },
  {
   "cell_type": "markdown",
   "metadata": {},
   "source": [
    "[Example of nice plots](http://nbviewer.jupyter.org/github/agconti/kaggle-titanic/blob/master/Titanic.ipynb#Let's-take-a-Look-at-our-data-graphically:)"
   ]
  },
  {
   "cell_type": "markdown",
   "metadata": {},
   "source": [
    "### Extract the data and preprocessing"
   ]
  },
  {
   "cell_type": "code",
   "execution_count": 17,
   "metadata": {
    "collapsed": true
   },
   "outputs": [],
   "source": [
    "X = data_train.values\n",
    "X_ = data_test.values"
   ]
  },
  {
   "cell_type": "code",
   "execution_count": 18,
   "metadata": {
    "collapsed": false
   },
   "outputs": [],
   "source": [
    "X1 = X\n",
    "X1_ = X_\n",
    "#from sklearn import preprocessing\n",
    "\n",
    "#min_max_scaler = preprocessing.MinMaxScaler()\n",
    "#X1 = min_max_scaler.fit_transform(X)\n",
    "#X1_= min_max_scaler.transform(X_)"
   ]
  },
  {
   "cell_type": "code",
   "execution_count": 19,
   "metadata": {
    "collapsed": false
   },
   "outputs": [],
   "source": [
    "from sklearn import linear_model, svm, neighbors, ensemble, naive_bayes\n",
    "from sklearn.metrics import accuracy_score\n",
    "from sklearn.cross_validation import train_test_split\n",
    "from datetime import datetime\n",
    "import xgboost as xgb\n",
    "\n",
    "X_train, X_test, y_train, y_test = train_test_split(X1, Y, test_size=0.40)\n",
    "\n",
    "estimators = [\n",
    "    (linear_model.LogisticRegression(),             'Logistic'),\n",
    "    (linear_model.RidgeClassifier(),                'Ridge'),\n",
    "    (linear_model.PassiveAggressiveClassifier(),    'Passive aggressive'),\n",
    "    (svm.SVC(),                                     'SVC rbf'),\n",
    "    (svm.SVC(kernel=\"sigmoid\"),                     'SVC sigmoid'),\n",
    "    (svm.LinearSVC(),                               'SVC linear'),\n",
    "    (svm.NuSVC(),                                   'SVC Nu'),\n",
    "    (linear_model.SGDClassifier(),                  'SGD'),\n",
    "    (neighbors.NearestCentroid(),                   'Nearest centroid'), \n",
    "    (ensemble.RandomForestClassifier(),             'Random forest'),\n",
    "    (ensemble.AdaBoostClassifier(),                 'Ada Boost'),\n",
    "    (ensemble.GradientBoostingClassifier(),         'Gradient Boosting'),\n",
    "    (ensemble.BaggingClassifier(),                  'Bagging'),\n",
    "    (ensemble.ExtraTreesClassifier(),               'Extra tree'),\n",
    "    (xgb.XGBClassifier(),                           'XGB'),\n",
    "    (naive_bayes.GaussianNB(),                      'GaussianNB'),\n",
    "]\n",
    "\n",
    "def analyse_many(estimators):\n",
    "    all_values = []\n",
    "    for estimator, name in estimators:\n",
    "        startTime = datetime.now()\n",
    "        clf = estimator.fit(X_train, y_train)\n",
    "\n",
    "        score = accuracy_score(y_test, clf.predict(X_test))\n",
    "        print name\n",
    "        print '  ', score, '\\t', datetime.now() - startTime\n",
    "        all_values.append((score, name, (datetime.now() - startTime).total_seconds()))\n",
    "    \n",
    "    clear_output()\n",
    "    all_values.sort(reverse=True)\n",
    "    return all_values[0][0], pd.DataFrame(all_values, columns=['Score', 'Name', 'Time seconds']).set_index(['Score'])"
   ]
  },
  {
   "cell_type": "code",
   "execution_count": 20,
   "metadata": {
    "collapsed": false
   },
   "outputs": [
    {
     "data": {
      "text/html": [
       "<div>\n",
       "<table border=\"1\" class=\"dataframe\">\n",
       "  <thead>\n",
       "    <tr style=\"text-align: right;\">\n",
       "      <th></th>\n",
       "      <th>Name</th>\n",
       "      <th>Time seconds</th>\n",
       "    </tr>\n",
       "    <tr>\n",
       "      <th>Score</th>\n",
       "      <th></th>\n",
       "      <th></th>\n",
       "    </tr>\n",
       "  </thead>\n",
       "  <tbody>\n",
       "    <tr>\n",
       "      <th>0.826331</th>\n",
       "      <td>Logistic</td>\n",
       "      <td>0.004130</td>\n",
       "    </tr>\n",
       "    <tr>\n",
       "      <th>0.823529</th>\n",
       "      <td>XGB</td>\n",
       "      <td>0.039281</td>\n",
       "    </tr>\n",
       "    <tr>\n",
       "      <th>0.823529</th>\n",
       "      <td>Ridge</td>\n",
       "      <td>0.001741</td>\n",
       "    </tr>\n",
       "    <tr>\n",
       "      <th>0.817927</th>\n",
       "      <td>Gradient Boosting</td>\n",
       "      <td>0.093008</td>\n",
       "    </tr>\n",
       "    <tr>\n",
       "      <th>0.812325</th>\n",
       "      <td>Ada Boost</td>\n",
       "      <td>0.106426</td>\n",
       "    </tr>\n",
       "    <tr>\n",
       "      <th>0.795518</th>\n",
       "      <td>Random forest</td>\n",
       "      <td>0.026536</td>\n",
       "    </tr>\n",
       "    <tr>\n",
       "      <th>0.770308</th>\n",
       "      <td>Bagging</td>\n",
       "      <td>0.032119</td>\n",
       "    </tr>\n",
       "    <tr>\n",
       "      <th>0.767507</th>\n",
       "      <td>Extra tree</td>\n",
       "      <td>0.059667</td>\n",
       "    </tr>\n",
       "    <tr>\n",
       "      <th>0.756303</th>\n",
       "      <td>GaussianNB</td>\n",
       "      <td>0.001440</td>\n",
       "    </tr>\n",
       "    <tr>\n",
       "      <th>0.708683</th>\n",
       "      <td>SVC rbf</td>\n",
       "      <td>0.023587</td>\n",
       "    </tr>\n",
       "    <tr>\n",
       "      <th>0.705882</th>\n",
       "      <td>SVC Nu</td>\n",
       "      <td>0.023028</td>\n",
       "    </tr>\n",
       "    <tr>\n",
       "      <th>0.700280</th>\n",
       "      <td>Passive aggressive</td>\n",
       "      <td>0.001209</td>\n",
       "    </tr>\n",
       "    <tr>\n",
       "      <th>0.658263</th>\n",
       "      <td>Nearest centroid</td>\n",
       "      <td>0.000680</td>\n",
       "    </tr>\n",
       "    <tr>\n",
       "      <th>0.655462</th>\n",
       "      <td>SVC linear</td>\n",
       "      <td>0.024279</td>\n",
       "    </tr>\n",
       "    <tr>\n",
       "      <th>0.619048</th>\n",
       "      <td>SVC sigmoid</td>\n",
       "      <td>0.011681</td>\n",
       "    </tr>\n",
       "    <tr>\n",
       "      <th>0.619048</th>\n",
       "      <td>SGD</td>\n",
       "      <td>0.000860</td>\n",
       "    </tr>\n",
       "  </tbody>\n",
       "</table>\n",
       "</div>"
      ],
      "text/plain": [
       "                        Name  Time seconds\n",
       "Score                                     \n",
       "0.826331            Logistic      0.004130\n",
       "0.823529                 XGB      0.039281\n",
       "0.823529               Ridge      0.001741\n",
       "0.817927   Gradient Boosting      0.093008\n",
       "0.812325           Ada Boost      0.106426\n",
       "0.795518       Random forest      0.026536\n",
       "0.770308             Bagging      0.032119\n",
       "0.767507          Extra tree      0.059667\n",
       "0.756303          GaussianNB      0.001440\n",
       "0.708683             SVC rbf      0.023587\n",
       "0.705882              SVC Nu      0.023028\n",
       "0.700280  Passive aggressive      0.001209\n",
       "0.658263    Nearest centroid      0.000680\n",
       "0.655462          SVC linear      0.024279\n",
       "0.619048         SVC sigmoid      0.011681\n",
       "0.619048                 SGD      0.000860"
      ]
     },
     "execution_count": 20,
     "metadata": {},
     "output_type": "execute_result"
    }
   ],
   "source": [
    "best_score, estimator_data = analyse_many(estimators)\n",
    "estimator_data"
   ]
  },
  {
   "cell_type": "markdown",
   "metadata": {},
   "source": [
    "It looks like `Gradient Boosting`, `XGB`, `Ada Boost` perform reasonably good together with `Logistic L2`, `SVC linear`. Let's see whether **0.851541** can be pushed further."
   ]
  },
  {
   "cell_type": "code",
   "execution_count": 21,
   "metadata": {
    "collapsed": false
   },
   "outputs": [
    {
     "name": "stdout",
     "output_type": "stream",
     "text": [
      "0.792717086835\n"
     ]
    }
   ],
   "source": [
    "clf = xgb.XGBClassifier(max_depth=5, learning_rate=0.1, n_estimators=10000).fit(X_train, y_train)\n",
    "score = accuracy_score(y_test, clf.predict(X_test))\n",
    "print score"
   ]
  },
  {
   "cell_type": "markdown",
   "metadata": {},
   "source": [
    "It looks like ensembe with 100 elements had a lot of variance and we just got lucky. "
   ]
  },
  {
   "cell_type": "markdown",
   "metadata": {},
   "source": [
    "----\n",
    "### Hyperparameters tuning."
   ]
  },
  {
   "cell_type": "code",
   "execution_count": 22,
   "metadata": {
    "collapsed": true
   },
   "outputs": [],
   "source": [
    "from sklearn.cross_validation import KFold, cross_val_score\n",
    "from sklearn.grid_search import GridSearchCV"
   ]
  },
  {
   "cell_type": "code",
   "execution_count": 23,
   "metadata": {
    "collapsed": true
   },
   "outputs": [],
   "source": [
    "def kFold_gridSearch(model, X, Y, params, folds=50):\n",
    "    startTime = datetime.now()\n",
    "\n",
    "    k_fold = KFold(len(Y), n_folds=folds, shuffle=True, random_state=0)\n",
    "    clf = GridSearchCV(model, params, cv=k_fold, scoring='accuracy')\n",
    "    clf.fit(X, Y)\n",
    "    \n",
    "    param_keys = params.keys()\n",
    "    \n",
    "    data_scores = [[info[1]] + [info[0][k] for k in param_keys] for info in clf.grid_scores_]\n",
    "    data_scores.sort(reverse=True)\n",
    "    \n",
    "    time_took = datetime.now() - startTime\n",
    "    if time_took.total_seconds() > 5:\n",
    "        print time_took\n",
    "    \n",
    "    return pd.DataFrame(data_scores, columns=['Score'] + param_keys).set_index(['Score'])"
   ]
  },
  {
   "cell_type": "code",
   "execution_count": 24,
   "metadata": {
    "collapsed": false
   },
   "outputs": [
    {
     "name": "stdout",
     "output_type": "stream",
     "text": [
      "Gradient Boosting\n",
      "0:05:40.833064\n"
     ]
    },
    {
     "data": {
      "text/html": [
       "<div>\n",
       "<table border=\"1\" class=\"dataframe\">\n",
       "  <thead>\n",
       "    <tr style=\"text-align: right;\">\n",
       "      <th></th>\n",
       "      <th>n_estimators</th>\n",
       "      <th>loss</th>\n",
       "      <th>learning_rate</th>\n",
       "      <th>max_depth</th>\n",
       "    </tr>\n",
       "    <tr>\n",
       "      <th>Score</th>\n",
       "      <th></th>\n",
       "      <th></th>\n",
       "      <th></th>\n",
       "      <th></th>\n",
       "    </tr>\n",
       "  </thead>\n",
       "  <tbody>\n",
       "    <tr>\n",
       "      <th>0.841751</th>\n",
       "      <td>100</td>\n",
       "      <td>exponential</td>\n",
       "      <td>0.10</td>\n",
       "      <td>5</td>\n",
       "    </tr>\n",
       "    <tr>\n",
       "      <th>0.839506</th>\n",
       "      <td>500</td>\n",
       "      <td>exponential</td>\n",
       "      <td>0.01</td>\n",
       "      <td>5</td>\n",
       "    </tr>\n",
       "    <tr>\n",
       "      <th>0.838384</th>\n",
       "      <td>500</td>\n",
       "      <td>deviance</td>\n",
       "      <td>0.01</td>\n",
       "      <td>5</td>\n",
       "    </tr>\n",
       "    <tr>\n",
       "      <th>0.833895</th>\n",
       "      <td>100</td>\n",
       "      <td>deviance</td>\n",
       "      <td>0.01</td>\n",
       "      <td>5</td>\n",
       "    </tr>\n",
       "    <tr>\n",
       "      <th>0.832772</th>\n",
       "      <td>100</td>\n",
       "      <td>deviance</td>\n",
       "      <td>0.10</td>\n",
       "      <td>5</td>\n",
       "    </tr>\n",
       "  </tbody>\n",
       "</table>\n",
       "</div>"
      ],
      "text/plain": [
       "          n_estimators         loss  learning_rate  max_depth\n",
       "Score                                                        \n",
       "0.841751           100  exponential           0.10          5\n",
       "0.839506           500  exponential           0.01          5\n",
       "0.838384           500     deviance           0.01          5\n",
       "0.833895           100     deviance           0.01          5\n",
       "0.832772           100     deviance           0.10          5"
      ]
     },
     "metadata": {},
     "output_type": "display_data"
    },
    {
     "name": "stdout",
     "output_type": "stream",
     "text": [
      "Ada Boost\n",
      "0:00:33.833903\n"
     ]
    },
    {
     "data": {
      "text/html": [
       "<div>\n",
       "<table border=\"1\" class=\"dataframe\">\n",
       "  <thead>\n",
       "    <tr style=\"text-align: right;\">\n",
       "      <th></th>\n",
       "      <th>n_estimators</th>\n",
       "      <th>learning_rate</th>\n",
       "    </tr>\n",
       "    <tr>\n",
       "      <th>Score</th>\n",
       "      <th></th>\n",
       "      <th></th>\n",
       "    </tr>\n",
       "  </thead>\n",
       "  <tbody>\n",
       "    <tr>\n",
       "      <th>0.821549</th>\n",
       "      <td>100</td>\n",
       "      <td>0.1</td>\n",
       "    </tr>\n",
       "    <tr>\n",
       "      <th>0.813692</th>\n",
       "      <td>50</td>\n",
       "      <td>1.0</td>\n",
       "    </tr>\n",
       "    <tr>\n",
       "      <th>0.812570</th>\n",
       "      <td>50</td>\n",
       "      <td>0.1</td>\n",
       "    </tr>\n",
       "    <tr>\n",
       "      <th>0.811448</th>\n",
       "      <td>100</td>\n",
       "      <td>1.0</td>\n",
       "    </tr>\n",
       "  </tbody>\n",
       "</table>\n",
       "</div>"
      ],
      "text/plain": [
       "          n_estimators  learning_rate\n",
       "Score                                \n",
       "0.821549           100            0.1\n",
       "0.813692            50            1.0\n",
       "0.812570            50            0.1\n",
       "0.811448           100            1.0"
      ]
     },
     "metadata": {},
     "output_type": "display_data"
    },
    {
     "name": "stdout",
     "output_type": "stream",
     "text": [
      "Logistic\n"
     ]
    },
    {
     "data": {
      "text/html": [
       "<div>\n",
       "<table border=\"1\" class=\"dataframe\">\n",
       "  <thead>\n",
       "    <tr style=\"text-align: right;\">\n",
       "      <th></th>\n",
       "      <th>penalty</th>\n",
       "      <th>C</th>\n",
       "    </tr>\n",
       "    <tr>\n",
       "      <th>Score</th>\n",
       "      <th></th>\n",
       "      <th></th>\n",
       "    </tr>\n",
       "  </thead>\n",
       "  <tbody>\n",
       "    <tr>\n",
       "      <th>0.826038</th>\n",
       "      <td>l1</td>\n",
       "      <td>0.5</td>\n",
       "    </tr>\n",
       "    <tr>\n",
       "      <th>0.824916</th>\n",
       "      <td>l1</td>\n",
       "      <td>1.0</td>\n",
       "    </tr>\n",
       "    <tr>\n",
       "      <th>0.819304</th>\n",
       "      <td>l2</td>\n",
       "      <td>1.0</td>\n",
       "    </tr>\n",
       "    <tr>\n",
       "      <th>0.819304</th>\n",
       "      <td>l2</td>\n",
       "      <td>0.5</td>\n",
       "    </tr>\n",
       "    <tr>\n",
       "      <th>0.804714</th>\n",
       "      <td>l2</td>\n",
       "      <td>0.1</td>\n",
       "    </tr>\n",
       "  </tbody>\n",
       "</table>\n",
       "</div>"
      ],
      "text/plain": [
       "         penalty    C\n",
       "Score                \n",
       "0.826038      l1  0.5\n",
       "0.824916      l1  1.0\n",
       "0.819304      l2  1.0\n",
       "0.819304      l2  0.5\n",
       "0.804714      l2  0.1"
      ]
     },
     "metadata": {},
     "output_type": "display_data"
    },
    {
     "name": "stdout",
     "output_type": "stream",
     "text": [
      "XGB\n",
      "0:01:32.118666\n"
     ]
    },
    {
     "data": {
      "text/html": [
       "<div>\n",
       "<table border=\"1\" class=\"dataframe\">\n",
       "  <thead>\n",
       "    <tr style=\"text-align: right;\">\n",
       "      <th></th>\n",
       "      <th>n_estimators</th>\n",
       "      <th>learning_rate</th>\n",
       "      <th>max_depth</th>\n",
       "    </tr>\n",
       "    <tr>\n",
       "      <th>Score</th>\n",
       "      <th></th>\n",
       "      <th></th>\n",
       "      <th></th>\n",
       "    </tr>\n",
       "  </thead>\n",
       "  <tbody>\n",
       "    <tr>\n",
       "      <th>0.843996</th>\n",
       "      <td>300</td>\n",
       "      <td>0.01</td>\n",
       "      <td>7</td>\n",
       "    </tr>\n",
       "    <tr>\n",
       "      <th>0.842873</th>\n",
       "      <td>100</td>\n",
       "      <td>0.01</td>\n",
       "      <td>7</td>\n",
       "    </tr>\n",
       "    <tr>\n",
       "      <th>0.839506</th>\n",
       "      <td>300</td>\n",
       "      <td>0.01</td>\n",
       "      <td>5</td>\n",
       "    </tr>\n",
       "    <tr>\n",
       "      <th>0.835017</th>\n",
       "      <td>100</td>\n",
       "      <td>0.01</td>\n",
       "      <td>5</td>\n",
       "    </tr>\n",
       "    <tr>\n",
       "      <th>0.830527</th>\n",
       "      <td>300</td>\n",
       "      <td>0.10</td>\n",
       "      <td>3</td>\n",
       "    </tr>\n",
       "  </tbody>\n",
       "</table>\n",
       "</div>"
      ],
      "text/plain": [
       "          n_estimators  learning_rate  max_depth\n",
       "Score                                           \n",
       "0.843996           300           0.01          7\n",
       "0.842873           100           0.01          7\n",
       "0.839506           300           0.01          5\n",
       "0.835017           100           0.01          5\n",
       "0.830527           300           0.10          3"
      ]
     },
     "metadata": {},
     "output_type": "display_data"
    }
   ],
   "source": [
    "grid_search_data = [\n",
    "    (ensemble.GradientBoostingClassifier(), 'Gradient Boosting', {\n",
    "        'loss': ['deviance', 'exponential'],\n",
    "        'learning_rate': [0.01, 0.1],\n",
    "        'n_estimators': [100, 500],\n",
    "        'max_depth': [3, 5]\n",
    "    }),\n",
    "    (ensemble.AdaBoostClassifier(), 'Ada Boost', {\n",
    "        'n_estimators': [50, 100],\n",
    "        'learning_rate': [0.1, 1.0]\n",
    "    }),\n",
    "    (linear_model.LogisticRegression(), 'Logistic', {\n",
    "        'penalty': ['l1', 'l2'],\n",
    "        'C': [0.1, 0.5, 1.]\n",
    "    }),\n",
    "    (xgb.XGBClassifier(), 'XGB', {\n",
    "        'max_depth': [3, 5, 7],\n",
    "        'learning_rate': [0.01, 0.1],\n",
    "        'n_estimators': [100, 300]\n",
    "    })\n",
    "]\n",
    "\n",
    "for model, model_name, params in grid_search_data:\n",
    "    print model_name\n",
    "    display(kFold_gridSearch(model, X, Y, params).head())"
   ]
  },
  {
   "cell_type": "code",
   "execution_count": 25,
   "metadata": {
    "collapsed": false
   },
   "outputs": [
    {
     "name": "stdout",
     "output_type": "stream",
     "text": [
      "XGB\n",
      "0:13:11.715955\n"
     ]
    },
    {
     "data": {
      "text/html": [
       "<div>\n",
       "<table border=\"1\" class=\"dataframe\">\n",
       "  <thead>\n",
       "    <tr style=\"text-align: right;\">\n",
       "      <th></th>\n",
       "      <th>n_estimators</th>\n",
       "      <th>learning_rate</th>\n",
       "      <th>max_depth</th>\n",
       "    </tr>\n",
       "    <tr>\n",
       "      <th>Score</th>\n",
       "      <th></th>\n",
       "      <th></th>\n",
       "      <th></th>\n",
       "    </tr>\n",
       "  </thead>\n",
       "  <tbody>\n",
       "    <tr>\n",
       "      <th>0.843996</th>\n",
       "      <td>300</td>\n",
       "      <td>0.010</td>\n",
       "      <td>7</td>\n",
       "    </tr>\n",
       "    <tr>\n",
       "      <th>0.842873</th>\n",
       "      <td>350</td>\n",
       "      <td>0.010</td>\n",
       "      <td>7</td>\n",
       "    </tr>\n",
       "    <tr>\n",
       "      <th>0.842873</th>\n",
       "      <td>300</td>\n",
       "      <td>0.010</td>\n",
       "      <td>6</td>\n",
       "    </tr>\n",
       "    <tr>\n",
       "      <th>0.841751</th>\n",
       "      <td>450</td>\n",
       "      <td>0.001</td>\n",
       "      <td>5</td>\n",
       "    </tr>\n",
       "    <tr>\n",
       "      <th>0.841751</th>\n",
       "      <td>400</td>\n",
       "      <td>0.010</td>\n",
       "      <td>7</td>\n",
       "    </tr>\n",
       "  </tbody>\n",
       "</table>\n",
       "</div>"
      ],
      "text/plain": [
       "          n_estimators  learning_rate  max_depth\n",
       "Score                                           \n",
       "0.843996           300          0.010          7\n",
       "0.842873           350          0.010          7\n",
       "0.842873           300          0.010          6\n",
       "0.841751           450          0.001          5\n",
       "0.841751           400          0.010          7"
      ]
     },
     "metadata": {},
     "output_type": "display_data"
    },
    {
     "name": "stdout",
     "output_type": "stream",
     "text": [
      "\n"
     ]
    }
   ],
   "source": [
    "grid_search_data = [\n",
    "    (xgb.XGBClassifier(), 'XGB', {\n",
    "        'max_depth': [4, 5, 6, 7],\n",
    "        'learning_rate': [0.01, 0.05, 0.001],\n",
    "        'n_estimators': [300, 400, 350, 450]\n",
    "    })\n",
    "]\n",
    "\n",
    "for model, model_name, params in grid_search_data:\n",
    "    print model_name\n",
    "    display(kFold_gridSearch(model, X, Y, params).head())\n",
    "    print"
   ]
  },
  {
   "cell_type": "markdown",
   "metadata": {},
   "source": [
    "-----\n",
    "### Preparing for submission\n",
    "It looks like XGBoost with `400, 0.01, 5` has the best result."
   ]
  },
  {
   "cell_type": "code",
   "execution_count": 26,
   "metadata": {
    "collapsed": true
   },
   "outputs": [],
   "source": [
    "clf = xgb.XGBClassifier(n_estimators=300, learning_rate=0.01, max_depth=7)\n",
    "clf.fit(X1, Y)\n",
    "res = clf.predict(X1_).astype(int)"
   ]
  },
  {
   "cell_type": "code",
   "execution_count": 27,
   "metadata": {
    "collapsed": false
   },
   "outputs": [],
   "source": [
    "submission = pd.DataFrame({\"PassengerId\": xrange(892, 892 + X1_.shape[0]), \"Survived\": res})\n",
    "submission.to_csv(\"output.csv\", index=False)"
   ]
  }
 ],
 "metadata": {
  "kernelspec": {
   "display_name": "Python 2",
   "language": "python",
   "name": "python2"
  },
  "language_info": {
   "codemirror_mode": {
    "name": "ipython",
    "version": 2
   },
   "file_extension": ".py",
   "mimetype": "text/x-python",
   "name": "python",
   "nbconvert_exporter": "python",
   "pygments_lexer": "ipython2",
   "version": "2.7.11"
  },
  "widgets": {
   "state": {},
   "version": "1.1.2"
  }
 },
 "nbformat": 4,
 "nbformat_minor": 0
}
