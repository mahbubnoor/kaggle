{
 "cells": [
  {
   "cell_type": "markdown",
   "metadata": {},
   "source": [
    "Model:\n",
    " - [XGB](https://www.kaggle.com/kumareshd/talkingdata-mobile-user-demographics/chicken-momos-plate-1/run/299504/code) [another one](https://www.kaggle.com/tilii7/talkingdata-mobile-user-demographics/xgboost-simple-starter-more-features/code) another [one](https://www.kaggle.com/zfturbo/talkingdata-mobile-user-demographics/xgboost-simple-starter/code) [XGBoost 2.389](https://www.kaggle.com/sglink/talkingdata-mobile-user-demographics/xgboost-simple-starter/run/294382/code)\n",
    " - [optimizing parameters](https://www.kaggle.com/tilii7/talkingdata-mobile-user-demographics/bayesian-optimization-xgboost-parameters/comments)\n",
    " - [bag of apps](https://www.kaggle.com/hulkbulk/talkingdata-mobile-user-demographics/low-ram-bag-of-apps-python-2-7)\n",
    "and [here](https://www.kaggle.com/xiaoml/talkingdata-mobile-user-demographics/low-ram-bag-of-apps-python) and [here](https://www.kaggle.com/xiaoml/talkingdata-mobile-user-demographics/bag-of-app-id-python-2-27392)\n",
    " - [apps labels linear](https://www.kaggle.com/dvasyukova/talkingdata-mobile-user-demographics/a-linear-model-on-apps-and-labels)\n",
    " - [brand and model](https://www.kaggle.com/dvasyukova/talkingdata-mobile-user-demographics/brand-and-model-based-benchmarks/comments) and [here](https://www.kaggle.com/autoptr/talkingdata-mobile-user-demographics/learning-pandas-follow-by-experts-i/run/310854/notebook)\n",
    " - [look at the script](https://www.kaggle.com/munitech4u/talkingdata-mobile-user-demographics/first-trial/run/302356)\n",
    " - https://www.kaggle.com/anokas/talkingdata-mobile-user-demographics/beat-the-benchmark-2-42107/discussion\n",
    "    \n",
    "https://www.kaggle.com/c/talkingdata-mobile-user-demographics/forums/t/22410/best-single-model\n",
    "https://www.kaggle.com/chechir/talkingdata-mobile-user-demographics/keras-on-labels-and-brands\n",
    "https://www.kaggle.com/c/talkingdata-mobile-user-demographics/forums/t/22269/python-code-for-evalulating-score\n",
    "https://www.kaggle.com/c/talkingdata-mobile-user-demographics/forums/t/22269/python-code-for-evalulating-score\n",
    "https://www.kaggle.com/zeroblue/talkingdata-mobile-user-demographics/better-log-loss-function/notebook"
   ]
  },
  {
   "cell_type": "code",
   "execution_count": 1,
   "metadata": {
    "collapsed": true
   },
   "outputs": [],
   "source": [
    "import pandas as pd\n",
    "import numpy as np\n",
    "\n",
    "from sklearn.preprocessing import LabelEncoder\n",
    "from sklearn.cross_validation import StratifiedKFold\n",
    "from sklearn.metrics import log_loss\n",
    "from sklearn import linear_model, svm, neighbors, ensemble, naive_bayes\n",
    "\n",
    "df_train = pd.DataFrame.from_csv(\"train.csv\")\n",
    "df_test  = pd.DataFrame.from_csv(\"test.csv\")"
   ]
  },
  {
   "cell_type": "code",
   "execution_count": 2,
   "metadata": {
    "collapsed": false
   },
   "outputs": [],
   "source": [
    "df_train.drop(['device_id', 'phone_brand', 'device_model', 'gender', 'age'], axis=1, inplace=True)\n",
    "df_test.drop(['device_id', 'phone_brand', 'device_model'], axis=1, inplace=True)"
   ]
  },
  {
   "cell_type": "code",
   "execution_count": 3,
   "metadata": {
    "collapsed": false,
    "scrolled": true
   },
   "outputs": [],
   "source": [
    "le = LabelEncoder() # e.classes_ to see all classes\n",
    "le.fit(df_train['group'])\n",
    "df_train['group'] = le.transform(df_train['group'])"
   ]
  },
  {
   "cell_type": "code",
   "execution_count": 4,
   "metadata": {
    "collapsed": true
   },
   "outputs": [],
   "source": [
    "df_train['lng'].fillna(0, inplace=True)\n",
    "df_train['lat'].fillna(0, inplace=True)\n",
    "df_test['lng'].fillna(0, inplace=True)\n",
    "df_test['lat'].fillna(0, inplace=True)"
   ]
  },
  {
   "cell_type": "markdown",
   "metadata": {},
   "source": [
    "### First attempt. ML without any prior thoughts\n",
    "Try to do many algorithms on unmodified data"
   ]
  },
  {
   "cell_type": "code",
   "execution_count": 5,
   "metadata": {
    "collapsed": false
   },
   "outputs": [],
   "source": [
    "X = df_train.values[:,:-1]\n",
    "Y = df_train.values[:,-1]\n",
    "\n",
    "X_ = df_test.values"
   ]
  },
  {
   "cell_type": "code",
   "execution_count": 6,
   "metadata": {
    "collapsed": false
   },
   "outputs": [],
   "source": [
    "def score(clf):\n",
    "    ## usage score((ensemble.GradientBoostingClassifier(n_estimators=300))\n",
    "    pred = np.zeros((Y.shape[0], len(le.classes_)))\n",
    "    for itrain, itest in StratifiedKFold(Y, n_folds=5, shuffle=True, random_state=0):\n",
    "        Xtr, Xte = X[itrain, :], X[itest, :]\n",
    "        ytr, yte = Y[itrain],    Y[itest]\n",
    "        clf.fit(Xtr, ytr)\n",
    "        pred[itest,:] = clf.predict_proba(Xte)\n",
    "\n",
    "        print \"\\t{:.5f}\".format(log_loss(yte, pred[itest,:]))\n",
    "\n",
    "    return log_loss(Y, pred)"
   ]
  },
  {
   "cell_type": "markdown",
   "metadata": {},
   "source": [
    "Few things tried without out of the box:\n",
    " - AdaBoostClassifier **2.47973**, 30 seconds\n",
    " - GradientBoostingClassifier **2.36487** 25 minutes\n",
    " - SVC rbf **2.42297** 7.5 hours\n",
    " - SVC sigmoid **2.42787** 7.5 hours\n",
    " - SVC nu **2.42668** 7.5 hours\n",
    " - everything else does not yield any reasonable results\n",
    "\n",
    "When tried to do some tuning:\n",
    " - AdaBoostClassifier with higher number of estimators 300, 500, and smaller learning rate 0.5, 0.1 didn't help (~5 mins). \n",
    " - GradientBoostingClassifier **2.3721** with n_estimators 300 took 70 mins and with 500 took **2.3827** took 2 hours. Max_depth 5, 7 has not improved anything **2.4016**, **2.4590** but runs 2-3 hours.\n",
    " - the best logistic regression (L1 1) achieves **2.3714**"
   ]
  },
  {
   "cell_type": "code",
   "execution_count": null,
   "metadata": {
    "collapsed": true
   },
   "outputs": [],
   "source": []
  }
 ],
 "metadata": {
  "kernelspec": {
   "display_name": "Python [Root]",
   "language": "python",
   "name": "Python [Root]"
  },
  "language_info": {
   "codemirror_mode": {
    "name": "ipython",
    "version": 2
   },
   "file_extension": ".py",
   "mimetype": "text/x-python",
   "name": "python",
   "nbconvert_exporter": "python",
   "pygments_lexer": "ipython2",
   "version": "2.7.12"
  }
 },
 "nbformat": 4,
 "nbformat_minor": 0
}
