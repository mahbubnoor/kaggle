{
 "cells": [
  {
   "cell_type": "markdown",
   "metadata": {},
   "source": [
    "Just took results from various scripts and aggregated them. What I took:"
   ]
  },
  {
   "cell_type": "markdown",
   "metadata": {},
   "source": [
    " - [Linear model on apps and labels](https://www.kaggle.com/dvasyukova/talkingdata-mobile-user-demographics/a-linear-model-on-apps-and-labels/notebook) **2.27**\n",
    " - [keras bag of apps](https://www.kaggle.com/alexxanderlarko/talkingdata-mobile-user-demographics/bag-of-apps-keras-11-08-16/code) **?**\n",
    " - [bag of apps](https://www.kaggle.com/xiaoml/talkingdata-mobile-user-demographics/bag-of-app-id-python-2-27392) **2.27**\n",
    " - [xgboost sparse](https://www.kaggle.com/anokas/talkingdata-mobile-user-demographics/sparse-xgboost-starter-2-26857) **2.26**\n",
    " - [keras labels and brands](https://www.kaggle.com/chechir/talkingdata-mobile-user-demographics/keras-on-labels-and-brands/code) **2.25**\n",
    " - [brands and models](https://www.kaggle.com/dvasyukova/talkingdata-mobile-user-demographics/brand-and-model-based-benchmarks/notebook) **2.39**"
   ]
  },
  {
   "cell_type": "code",
   "execution_count": 1,
   "metadata": {
    "collapsed": true
   },
   "outputs": [],
   "source": [
    "import pandas as pd\n",
    "import numpy as np"
   ]
  },
  {
   "cell_type": "code",
   "execution_count": 2,
   "metadata": {
    "collapsed": false
   },
   "outputs": [],
   "source": [
    "x1 = pd.DataFrame.from_csv(\"data/res/1_apps.csv\")\n",
    "x2 = pd.DataFrame.from_csv(\"data/res/2_apps.csv\")\n",
    "x3 = pd.DataFrame.from_csv(\"data/res/3_apps.csv\")\n",
    "x4 = pd.DataFrame.from_csv(\"data/res/4_xgb.csv\")\n",
    "x5 = pd.DataFrame.from_csv(\"data/res/5_brands.csv\") # looks very strange prob do not sum to 1\n",
    "x6 = pd.DataFrame.from_csv(\"data/res/6_brands.csv\")\n",
    "\n",
    "x_ = pd.DataFrame.from_csv(\"train.csv\", index_col='device_id')[['e_num']]\n",
    "no_events = set(x_[x_['e_num'] == 0].index.values)"
   ]
  },
  {
   "cell_type": "code",
   "execution_count": 3,
   "metadata": {
    "collapsed": false
   },
   "outputs": [],
   "source": [
    "res = pd.concat([x1, x2, x3, x4, x6]).groupby(level=0).mean()\n",
    "res.to_csv(\"output_1.csv\")"
   ]
  },
  {
   "cell_type": "code",
   "execution_count": 5,
   "metadata": {
    "collapsed": false
   },
   "outputs": [],
   "source": [
    "res = pd.concat([x1, x2, x3, x4]).groupby(level=0).mean()\n",
    "res.to_csv(\"output_2.csv\")"
   ]
  }
 ],
 "metadata": {
  "kernelspec": {
   "display_name": "Python [Root]",
   "language": "python",
   "name": "Python [Root]"
  },
  "language_info": {
   "codemirror_mode": {
    "name": "ipython",
    "version": 2
   },
   "file_extension": ".py",
   "mimetype": "text/x-python",
   "name": "python",
   "nbconvert_exporter": "python",
   "pygments_lexer": "ipython2",
   "version": "2.7.12"
  }
 },
 "nbformat": 4,
 "nbformat_minor": 0
}
