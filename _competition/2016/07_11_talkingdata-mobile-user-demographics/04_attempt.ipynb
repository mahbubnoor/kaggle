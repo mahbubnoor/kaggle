{
 "cells": [
  {
   "cell_type": "markdown",
   "metadata": {},
   "source": [
    "Removing all information about a model and brand gave me **2.37** score. That was clearly a very bad model, so let's see how it is possible to improve it.'"
   ]
  },
  {
   "cell_type": "code",
   "execution_count": 1,
   "metadata": {
    "collapsed": true
   },
   "outputs": [],
   "source": [
    "import pandas as pd\n",
    "import numpy as np\n",
    "\n",
    "from datetime import datetime\n",
    "from IPython.display import display, HTML, clear_output\n",
    "from sklearn.preprocessing import LabelEncoder\n",
    "from sklearn.cross_validation import StratifiedKFold\n",
    "from sklearn.metrics import log_loss\n",
    "from sklearn import linear_model, svm, neighbors, ensemble, naive_bayes\n",
    "%matplotlib inline\n",
    "\n",
    "df_train = pd.DataFrame.from_csv(\"train.csv\")"
   ]
  },
  {
   "cell_type": "markdown",
   "metadata": {},
   "source": [
    "Explanation about the features:\n",
    " - `phone_brand` - phone brand\n",
    " - `device_model` - device model\n",
    " - `e_num` - number of events\n",
    " - `h_X` - how many events happened at hour X. X is from 0 to 23\n",
    " - `d_X` - how many events happened at day X. X is from 0 to 6\n",
    " - `lat/lng` - position of the device\n",
    " - `pos_n` - number of unique clusters of positions\n",
    " - `app_num_all` - number of all application installed\n",
    " - `app_num_active` - number of active applications\n",
    " - `c_X` - number of categories of applications"
   ]
  },
  {
   "cell_type": "code",
   "execution_count": 2,
   "metadata": {
    "collapsed": false
   },
   "outputs": [
    {
     "name": "stdout",
     "output_type": "stream",
     "text": [
      "No events : 51336\n",
      "1 event   : 2375\n",
      "2 events  : 1467\n",
      "3 events  : 1076\n",
      "4 and more: 18391\n"
     ]
    }
   ],
   "source": [
    "print 'No events :', sum(df_train['e_num'] == 0)\n",
    "print '1 event   :', sum(df_train['e_num'] == 1)\n",
    "print '2 events  :', sum(df_train['e_num'] == 2)\n",
    "print '3 events  :', sum(df_train['e_num'] == 3)\n",
    "print '4 and more:', sum(df_train['e_num'] >  3)"
   ]
  },
  {
   "cell_type": "code",
   "execution_count": 3,
   "metadata": {
    "collapsed": false
   },
   "outputs": [
    {
     "name": "stdout",
     "output_type": "stream",
     "text": [
      "Num of brands: 104\n",
      "Num of models: 1438\n",
      "Num of b&m   : 1486\n"
     ]
    }
   ],
   "source": [
    "print \"Num of brands:\", df_train['phone_brand'].nunique()\n",
    "print \"Num of models:\", df_train['device_model'].nunique()\n",
    "print \"Num of b&m   :\", (df_train['phone_brand'] + ' ' + df_train['device_model']).nunique()"
   ]
  },
  {
   "cell_type": "markdown",
   "metadata": {},
   "source": [
    "-----\n",
    "\n",
    "Majority of the data (more than 50%) do not have anything except of brand and label. The number of different brands and models is big (104/1438). A lot of them were seen only once or twice. There are a few things that makes sense:\n",
    " - train two models. One for the data with no events and another one for the rest of the data\n",
    " - mark infrequent brands/models as other. This reduces the space. But it is not which frequency should be selected as a threshold. My approach is to try various frequencies and select the one that performs the best.\n",
    " \n",
    "A few helper functions that can help me to try different thresholds."
   ]
  },
  {
   "cell_type": "code",
   "execution_count": 4,
   "metadata": {
    "collapsed": false
   },
   "outputs": [],
   "source": [
    "def score(X, Y, clf, num_classes):\n",
    "    # usage score((ensemble.GradientBoostingClassifier(n_estimators=300))\n",
    "    pred = np.zeros((Y.shape[0], num_classes))\n",
    "    for itrain, itest in StratifiedKFold(Y, n_folds=5, shuffle=True, random_state=0):\n",
    "        Xtr, Xte = X[itrain, :], X[itest, :]\n",
    "        ytr, yte = Y[itrain],    Y[itest]\n",
    "        clf.fit(Xtr, ytr)\n",
    "        pred[itest,:] = clf.predict_proba(Xte)\n",
    "\n",
    "    return log_loss(Y, pred)"
   ]
  },
  {
   "cell_type": "code",
   "execution_count": 5,
   "metadata": {
    "collapsed": true
   },
   "outputs": [],
   "source": [
    "def encode(df, col):\n",
    "    le = LabelEncoder()\n",
    "    le.fit(df[col])\n",
    "    df[col] = le.transform(df[col])\n",
    "    return le\n",
    "\n",
    "def get_modified_dataframe(pred_cat, brand_threshold, model_threshold):\n",
    "    cols = ['phone_brand', 'device_model'] + [pred_cat]\n",
    "    df = df_train[df_train['e_num'] == 0][cols].copy()\n",
    "\n",
    "    infrequent = df['phone_brand'].value_counts()\n",
    "    df.replace(infrequent[infrequent <= brand_threshold].index, 'other', inplace=True)\n",
    "\n",
    "    infrequent = df['device_model'].value_counts()\n",
    "    df.replace(infrequent[infrequent <= model_threshold].index, 'other', inplace=True)\n",
    "    \n",
    "    n_brands = df['phone_brand'].nunique()\n",
    "    n_models = df['device_model'].nunique()\n",
    "    \n",
    "    le_brand = encode(df, 'phone_brand')\n",
    "    le_model = encode(df, 'device_model')\n",
    "    \n",
    "    le = encode(df, pred_cat)\n",
    "    \n",
    "    dummies_brand = pd.get_dummies(df['phone_brand'],  prefix=\"brand\")\n",
    "    dummies_model = pd.get_dummies(df['device_model'], prefix=\"model\")\n",
    "\n",
    "    df = pd.concat([dummies_brand, dummies_model, df], axis=1)\n",
    "    df.drop(['phone_brand', 'device_model'], inplace=True, axis=1)\n",
    "    return df, le, n_brands, n_models"
   ]
  },
  {
   "cell_type": "markdown",
   "metadata": {},
   "source": [
    "Now I will try various different thresholds and decide which one is the best."
   ]
  },
  {
   "cell_type": "code",
   "execution_count": 6,
   "metadata": {
    "collapsed": false,
    "scrolled": true
   },
   "outputs": [],
   "source": [
    "def find_best_threshold(category_to_predict, brand_threshold_arr, model_threshold_arr):\n",
    "    data, already_done = [], {}\n",
    "    for brand_threshold in brand_threshold_arr:\n",
    "        for model_threshold in model_threshold_arr:\n",
    "            startTime = datetime.now()\n",
    "            df, le, n_brands, n_models = get_modified_dataframe(category_to_predict, brand_threshold, model_threshold)\n",
    "            \n",
    "            if (n_brands, n_models) in already_done:\n",
    "                continue\n",
    "                \n",
    "            X, Y = df.values[:,:-1], df.values[:,-1]\n",
    "\n",
    "            score_val = score(X, Y, linear_model.LogisticRegression(), len(le.classes_))\n",
    "            time_took = datetime.now() - startTime\n",
    "            already_done[(n_brands, n_models)] = score_val\n",
    "\n",
    "            print 'Brand threshold:      ', brand_threshold\n",
    "            print 'Model threshold:      ', model_threshold\n",
    "            print 'Num brands/model left:', (n_brands, n_models)\n",
    "            print 'Score:                ', score_val\n",
    "            print 'Time:                 ', time_took\n",
    "            print\n",
    "            \n",
    "            data.append((brand_threshold, model_threshold, n_brands, n_models, score_val, time_took))  \n",
    "\n",
    "    clear_output()\n",
    "    cols = ['brand_threshold', 'model_threshold', 'n_brands', 'n_models', 'Logistic', 'time']\n",
    "    return pd.DataFrame(data, columns=cols).set_index(['brand_threshold', 'model_threshold'])\n",
    "\n",
    "#res_df = find_best_threshold('group', xrange(1, 4), xrange(160, 220))"
   ]
  },
  {
   "cell_type": "markdown",
   "metadata": {},
   "source": [
    "The best value **2.405190** is obtained with `brand_threshold=1`, `model_threshold=180`. The similar values are for `brand_threshold` from 1 to 4, `model_threshold` between 160 and 200. Each of the logistic regressions run approximately 13 seconds.\n",
    "\n",
    "Tried `find_best_threshold('group', xrange(1, 20), xrange(5, 200, 5))`, took ~ 6 hours (without cache). Refined with `find_best_threshold('group', xrange(1, 6), xrange(150, 210))`, took ~ 1 hour. \n",
    "\n",
    "Had an idea to **predict the group based on age and gender**. This lead me nowhere because female/male baskets have different ranges."
   ]
  },
  {
   "cell_type": "markdown",
   "metadata": {},
   "source": [
    "----\n",
    "\n",
    "So now I have a model that calculates the the group when the data have 0 events. Need to build another one, when we have events."
   ]
  },
  {
   "cell_type": "code",
   "execution_count": 32,
   "metadata": {
    "collapsed": true
   },
   "outputs": [],
   "source": [
    "def get_modified_dataframe_2(brand_threshold, model_threshold):\n",
    "    df = df_train[df_train['e_num'] > 0].copy().drop(['gender', 'age'], axis=1)\n",
    "    df['lat'].fillna(0, inplace=True)\n",
    "    df['lng'].fillna(0, inplace=True)\n",
    "\n",
    "    infrequent = df['phone_brand'].value_counts()\n",
    "    df.replace(infrequent[infrequent <= brand_threshold].index, 'other', inplace=True)\n",
    "\n",
    "    infrequent = df['device_model'].value_counts()\n",
    "    df.replace(infrequent[infrequent <= model_threshold].index, 'other', inplace=True)\n",
    "    \n",
    "    n_brands = df['phone_brand'].nunique()\n",
    "    n_models = df['device_model'].nunique()\n",
    "    \n",
    "    le_brand = encode(df, 'phone_brand')\n",
    "    le_model = encode(df, 'device_model')\n",
    "    \n",
    "    le = encode(df, 'group')\n",
    "    \n",
    "    dummies_brand = pd.get_dummies(df['phone_brand'],  prefix=\"brand\")\n",
    "    dummies_model = pd.get_dummies(df['device_model'], prefix=\"model\")\n",
    "\n",
    "    df = pd.concat([dummies_brand, dummies_model, df], axis=1)\n",
    "    df.drop(['phone_brand', 'device_model'], inplace=True, axis=1)\n",
    "    return df, le, n_brands, n_models"
   ]
  },
  {
   "cell_type": "code",
   "execution_count": 35,
   "metadata": {
    "collapsed": false
   },
   "outputs": [
    {
     "name": "stdout",
     "output_type": "stream",
     "text": [
      "2.48495693622\n"
     ]
    }
   ],
   "source": [
    "df, le, n_brands, n_models = get_modified_dataframe_2(1, 180)\n",
    "\n",
    "X, Y = df.values[:,:-1], df.values[:,-1]\n",
    "score_val = score(X, Y, linear_model.LogisticRegression(), len(le.classes_))\n",
    "print score_val"
   ]
  },
  {
   "cell_type": "code",
   "execution_count": null,
   "metadata": {
    "collapsed": true
   },
   "outputs": [],
   "source": []
  }
 ],
 "metadata": {
  "kernelspec": {
   "display_name": "Python [Root]",
   "language": "python",
   "name": "Python [Root]"
  },
  "language_info": {
   "codemirror_mode": {
    "name": "ipython",
    "version": 2
   },
   "file_extension": ".py",
   "mimetype": "text/x-python",
   "name": "python",
   "nbconvert_exporter": "python",
   "pygments_lexer": "ipython2",
   "version": "2.7.12"
  }
 },
 "nbformat": 4,
 "nbformat_minor": 0
}
